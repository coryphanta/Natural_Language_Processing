{
 "cells": [
  {
   "cell_type": "markdown",
   "id": "8c81fa7f",
   "metadata": {},
   "source": [
    "Урок 4. Тематическое моделирование. EM-алгоритм\n",
    "Задача тематическое моделирование\n",
    "\n",
    "продолжаем исследование датасета с твитами\n",
    "\n",
    "Скачиваем датасет (источник): положительные, отрицательные.\n",
    "\n",
    "рабочие ссылки с твитами\n",
    "https://disk.yandex.ru/i/v5HM-ENiGXZVpQ\n",
    "https://disk.yandex.ru/i/koR5eMCToCZS2Q\n",
    "\n",
    "как альтернатива можно скачать данные из Роспотребнадзора\n",
    "https://zpp.rospotrebnadzor.ru/Forum/Appeals\n",
    "для этого берём ноутбук parse_rospotrebnadzor.ipynb\n",
    "устанавливаем количество скачанных страниц больше не 50-сят хотябы 500 и для анализа берём только вопросы так как ответы есть не всегда\n",
    "\n",
    "что надо сделать\n",
    "1. объединить в одну выборку (это только для твитов), для роспотребнадзора сформировать датасет из вопросов\n",
    "2. провести исследование и выявить тематики о которых говорят в твитах (для твитов), а для роспотребнадзора так же выявить тематики о которых люди пишут проанализировать\n",
    "3. сделать визуализацию кластеров тематик\n",
    "4. проинтерпритировать получившиеся тематики"
   ]
  },
  {
   "cell_type": "code",
   "execution_count": 1,
   "id": "235be710",
   "metadata": {},
   "outputs": [
    {
     "name": "stdout",
     "output_type": "stream",
     "text": [
      "Requirement already satisfied: pymorphy2 in c:\\users\\uliana\\anaconda3\\lib\\site-packages (0.9.1)\n",
      "Requirement already satisfied: dawg-python>=0.7.1 in c:\\users\\uliana\\anaconda3\\lib\\site-packages (from pymorphy2) (0.7.2)\n",
      "Requirement already satisfied: pymorphy2-dicts-ru<3.0,>=2.4 in c:\\users\\uliana\\anaconda3\\lib\\site-packages (from pymorphy2) (2.4.417127.4579844)\n",
      "Requirement already satisfied: docopt>=0.6 in c:\\users\\uliana\\anaconda3\\lib\\site-packages (from pymorphy2) (0.6.2)\n",
      "Collecting pyLDAvis\n",
      "  Downloading pyLDAvis-3.3.1.tar.gz (1.7 MB)\n",
      "     ---------------------------------------- 1.7/1.7 MB 3.5 MB/s eta 0:00:00\n",
      "  Installing build dependencies: started\n",
      "  Installing build dependencies: finished with status 'done'\n",
      "  Getting requirements to build wheel: started\n",
      "  Getting requirements to build wheel: finished with status 'done'\n",
      "  Installing backend dependencies: started\n",
      "  Installing backend dependencies: finished with status 'done'\n",
      "  Preparing metadata (pyproject.toml): started\n",
      "  Preparing metadata (pyproject.toml): finished with status 'done'\n",
      "Requirement already satisfied: numpy>=1.20.0 in c:\\users\\uliana\\anaconda3\\lib\\site-packages (from pyLDAvis) (1.22.4)\n",
      "Requirement already satisfied: future in c:\\users\\uliana\\anaconda3\\lib\\site-packages (from pyLDAvis) (0.18.2)\n",
      "Requirement already satisfied: setuptools in c:\\users\\uliana\\anaconda3\\lib\\site-packages (from pyLDAvis) (52.0.0.post20210125)\n",
      "Requirement already satisfied: gensim in c:\\users\\uliana\\anaconda3\\lib\\site-packages (from pyLDAvis) (4.1.2)\n",
      "Requirement already satisfied: jinja2 in c:\\users\\uliana\\anaconda3\\lib\\site-packages (from pyLDAvis) (2.11.3)\n",
      "Requirement already satisfied: scipy in c:\\users\\uliana\\anaconda3\\lib\\site-packages (from pyLDAvis) (1.4.1)\n",
      "Requirement already satisfied: joblib in c:\\users\\uliana\\anaconda3\\lib\\site-packages (from pyLDAvis) (1.0.1)\n",
      "Requirement already satisfied: scikit-learn in c:\\users\\uliana\\anaconda3\\lib\\site-packages (from pyLDAvis) (0.24.1)\n",
      "Collecting sklearn\n",
      "  Downloading sklearn-0.0.tar.gz (1.1 kB)\n",
      "  Preparing metadata (setup.py): started\n",
      "  Preparing metadata (setup.py): finished with status 'done'\n",
      "Requirement already satisfied: pandas>=1.2.0 in c:\\users\\uliana\\anaconda3\\lib\\site-packages (from pyLDAvis) (1.2.4)\n",
      "Collecting funcy\n",
      "  Downloading funcy-1.17-py2.py3-none-any.whl (33 kB)\n",
      "Requirement already satisfied: numexpr in c:\\users\\uliana\\anaconda3\\lib\\site-packages (from pyLDAvis) (2.7.3)\n",
      "Requirement already satisfied: pytz>=2017.3 in c:\\users\\uliana\\anaconda3\\lib\\site-packages (from pandas>=1.2.0->pyLDAvis) (2021.1)\n",
      "Requirement already satisfied: python-dateutil>=2.7.3 in c:\\users\\uliana\\anaconda3\\lib\\site-packages (from pandas>=1.2.0->pyLDAvis) (2.8.1)\n",
      "Requirement already satisfied: Cython==0.29.23 in c:\\users\\uliana\\anaconda3\\lib\\site-packages (from gensim->pyLDAvis) (0.29.23)\n",
      "Requirement already satisfied: smart-open>=1.8.1 in c:\\users\\uliana\\anaconda3\\lib\\site-packages (from gensim->pyLDAvis) (5.2.1)\n",
      "Requirement already satisfied: MarkupSafe>=0.23 in c:\\users\\uliana\\anaconda3\\lib\\site-packages (from jinja2->pyLDAvis) (1.1.1)\n",
      "Requirement already satisfied: threadpoolctl>=2.0.0 in c:\\users\\uliana\\anaconda3\\lib\\site-packages (from scikit-learn->pyLDAvis) (2.1.0)\n",
      "Requirement already satisfied: six>=1.5 in c:\\users\\uliana\\anaconda3\\lib\\site-packages (from python-dateutil>=2.7.3->pandas>=1.2.0->pyLDAvis) (1.15.0)\n",
      "Building wheels for collected packages: pyLDAvis, sklearn\n",
      "  Building wheel for pyLDAvis (pyproject.toml): started\n",
      "  Building wheel for pyLDAvis (pyproject.toml): finished with status 'done'\n",
      "  Created wheel for pyLDAvis: filename=pyLDAvis-3.3.1-py2.py3-none-any.whl size=136882 sha256=3dc43da07da5ea2aaf78125948f5917f673f08d3d3264081f912d40e3090b434\n",
      "  Stored in directory: c:\\users\\uliana\\appdata\\local\\pip\\cache\\wheels\\90\\61\\ec\\9dbe9efc3acf9c4e37ba70fbbcc3f3a0ebd121060aa593181a\n",
      "  Building wheel for sklearn (setup.py): started\n",
      "  Building wheel for sklearn (setup.py): finished with status 'done'\n",
      "  Created wheel for sklearn: filename=sklearn-0.0-py2.py3-none-any.whl size=1316 sha256=11505d48acba8c4411233f4d8306cae0c809e2abe8aa8f206a17642a57a58d99\n",
      "  Stored in directory: c:\\users\\uliana\\appdata\\local\\pip\\cache\\wheels\\22\\0b\\40\\fd3f795caaa1fb4c6cb738bc1f56100be1e57da95849bfc897\n",
      "Successfully built pyLDAvis sklearn\n",
      "Installing collected packages: funcy, sklearn, pyLDAvis\n",
      "Successfully installed funcy-1.17 pyLDAvis-3.3.1 sklearn-0.0\n",
      "Requirement already satisfied: pymystem3 in c:\\users\\uliana\\anaconda3\\lib\\site-packages (0.2.0)\n",
      "Requirement already satisfied: requests in c:\\users\\uliana\\anaconda3\\lib\\site-packages (from pymystem3) (2.25.1)\n",
      "Requirement already satisfied: idna<3,>=2.5 in c:\\users\\uliana\\anaconda3\\lib\\site-packages (from requests->pymystem3) (2.10)\n",
      "Requirement already satisfied: certifi>=2017.4.17 in c:\\users\\uliana\\anaconda3\\lib\\site-packages (from requests->pymystem3) (2020.12.5)\n",
      "Requirement already satisfied: urllib3<1.27,>=1.21.1 in c:\\users\\uliana\\anaconda3\\lib\\site-packages (from requests->pymystem3) (1.26.4)\n",
      "Requirement already satisfied: chardet<5,>=3.0.2 in c:\\users\\uliana\\anaconda3\\lib\\site-packages (from requests->pymystem3) (4.0.0)\n"
     ]
    }
   ],
   "source": [
    "!pip install pymorphy2\n",
    "!pip install pyLDAvis\n",
    "!pip install pymystem3"
   ]
  },
  {
   "cell_type": "code",
   "execution_count": 28,
   "id": "fb06ac27",
   "metadata": {},
   "outputs": [],
   "source": [
    "import pandas as pd\n",
    "import re\n",
    "import pymorphy2\n",
    "from nltk.corpus import stopwords\n",
    "from gensim.models import *\n",
    "from gensim import corpora\n",
    "import numpy as np\n",
    "import pyLDAvis\n",
    "import pyLDAvis.gensim_models as gensimvis"
   ]
  },
  {
   "cell_type": "code",
   "execution_count": 4,
   "id": "e1cb572f",
   "metadata": {},
   "outputs": [],
   "source": [
    "positive = pd.read_csv('positive.csv', sep = ';', usecols = [3], names = ['text'])\n",
    "positive['label'] = ['positive'] * len(positive)\n",
    "\n",
    "negative = pd.read_csv('negative.csv', sep = ';', usecols = [3], names = ['text'])\n",
    "negative['label'] = ['negative'] * len(negative)"
   ]
  },
  {
   "cell_type": "code",
   "execution_count": 5,
   "id": "5cec6339",
   "metadata": {},
   "outputs": [
    {
     "data": {
      "text/html": [
       "<div>\n",
       "<style scoped>\n",
       "    .dataframe tbody tr th:only-of-type {\n",
       "        vertical-align: middle;\n",
       "    }\n",
       "\n",
       "    .dataframe tbody tr th {\n",
       "        vertical-align: top;\n",
       "    }\n",
       "\n",
       "    .dataframe thead th {\n",
       "        text-align: right;\n",
       "    }\n",
       "</style>\n",
       "<table border=\"1\" class=\"dataframe\">\n",
       "  <thead>\n",
       "    <tr style=\"text-align: right;\">\n",
       "      <th></th>\n",
       "      <th>text</th>\n",
       "      <th>label</th>\n",
       "    </tr>\n",
       "  </thead>\n",
       "  <tbody>\n",
       "    <tr>\n",
       "      <th>0</th>\n",
       "      <td>@first_timee хоть я и школота, но поверь, у на...</td>\n",
       "      <td>positive</td>\n",
       "    </tr>\n",
       "    <tr>\n",
       "      <th>1</th>\n",
       "      <td>Да, все-таки он немного похож на него. Но мой ...</td>\n",
       "      <td>positive</td>\n",
       "    </tr>\n",
       "    <tr>\n",
       "      <th>2</th>\n",
       "      <td>RT @KatiaCheh: Ну ты идиотка) я испугалась за ...</td>\n",
       "      <td>positive</td>\n",
       "    </tr>\n",
       "    <tr>\n",
       "      <th>3</th>\n",
       "      <td>RT @digger2912: \"Кто то в углу сидит и погибае...</td>\n",
       "      <td>positive</td>\n",
       "    </tr>\n",
       "    <tr>\n",
       "      <th>4</th>\n",
       "      <td>@irina_dyshkant Вот что значит страшилка :D\\nН...</td>\n",
       "      <td>positive</td>\n",
       "    </tr>\n",
       "  </tbody>\n",
       "</table>\n",
       "</div>"
      ],
      "text/plain": [
       "                                                text     label\n",
       "0  @first_timee хоть я и школота, но поверь, у на...  positive\n",
       "1  Да, все-таки он немного похож на него. Но мой ...  positive\n",
       "2  RT @KatiaCheh: Ну ты идиотка) я испугалась за ...  positive\n",
       "3  RT @digger2912: \"Кто то в углу сидит и погибае...  positive\n",
       "4  @irina_dyshkant Вот что значит страшилка :D\\nН...  positive"
      ]
     },
     "execution_count": 5,
     "metadata": {},
     "output_type": "execute_result"
    }
   ],
   "source": [
    "# Объкдиняем выборки\n",
    "df = pd.concat([positive, negative], ignore_index = True)\n",
    "df.head()"
   ]
  },
  {
   "cell_type": "code",
   "execution_count": 6,
   "id": "201f7ca3",
   "metadata": {},
   "outputs": [
    {
     "name": "stdout",
     "output_type": "stream",
     "text": [
      "<class 'pandas.core.frame.DataFrame'>\n",
      "RangeIndex: 226834 entries, 0 to 226833\n",
      "Data columns (total 2 columns):\n",
      " #   Column  Non-Null Count   Dtype \n",
      "---  ------  --------------   ----- \n",
      " 0   text    226834 non-null  object\n",
      " 1   label   226834 non-null  object\n",
      "dtypes: object(2)\n",
      "memory usage: 3.5+ MB\n"
     ]
    }
   ],
   "source": [
    "df.info()"
   ]
  },
  {
   "cell_type": "code",
   "execution_count": 13,
   "id": "8c3d54a9",
   "metadata": {},
   "outputs": [],
   "source": [
    "words_regex = re.compile('\\w+')\n",
    "\n",
    "# ФОрмируем токены длиной более 3 букв\n",
    "def find_words(text, regex = words_regex):\n",
    "    tokens = regex.findall(text) \n",
    "    return [w for w in tokens if w.isalpha() and len(w)>= 4] \n",
    "\n",
    "morph = pymorphy2.MorphAnalyzer() \n",
    "stopwords_list = stopwords.words('russian') \n",
    "\n",
    "# Удаляем стоп слова и другие символы, не являющимися буквами\n",
    "def lemmatize(words, lemmer = morph, stopwords = stopwords_list):\n",
    "    lemmas = [lemmer.parse(w)[0].normal_form for w in words] \n",
    "    return [w for w in lemmas if not w in stopwords and w.isalpha()] \n",
    "\n",
    "#Чистим от нецензурных слов и слов, не несущих особой смысловой нагрузки\n",
    "def clear_tokens(tokens):\n",
    "    string_tokens = ' '.join(tokens)\n",
    "    string_tokens = re.sub(r'[A-za-z]', ' ',  string_tokens) \n",
    "    string_tokens = re.sub(r'\\w+ще\\b', ' ',  string_tokens) \n",
    "    string_tokens = re.sub(r'\\bбл\\w+', ' ',  string_tokens) \n",
    "    string_tokens = re.sub(r'значит', ' ',  string_tokens) \n",
    "    string_tokens = re.sub(r'почему', ' ',  string_tokens) \n",
    "    string_tokens = re.sub(r'свой', ' ',  string_tokens) \n",
    "    string_tokens = re.sub(r'капец', ' ',  string_tokens) \n",
    "    string_tokens = re.sub(r'который', ' ',  string_tokens)\n",
    "    string_tokens = re.sub(r'это', ' ',  string_tokens)\n",
    "    string_tokens = re.sub(r'весь', ' ',  string_tokens)\n",
    "    string_tokens = re.sub(r'\\bидио\\w+', ' ',  string_tokens) \n",
    "    string_tokens = re.sub(r'\\bпид\\w+', ' ',  string_tokens)\n",
    "    string_tokens = re.sub(r'\\bхуй\\w+', ' ', string_tokens)\n",
    "    string_tokens = re.sub(r'\\w+xу.\\b', ' ',  string_tokens)\n",
    "    string_tokens = re.sub(r'\\w+xу\\w+', ' ',  string_tokens)\n",
    "    string_tokens = re.sub(r'\\w+но\\b', ' ',  string_tokens)\n",
    "    string_tokens = re.sub(r'\\bпоп\\w+', ' ',  string_tokens)\n",
    "    string_tokens = re.sub(r'\\bпиз\\w+', ' ',  string_tokens)\n",
    "    string_tokens = re.sub(r'\\bгов\\w+', ' ',  string_tokens)\n",
    "    string_tokens = re.sub(r'\\bфиг\\w+', ' ',  string_tokens)\n",
    "    string_tokens = re.sub(r'сука', ' ',  string_tokens)\n",
    "    string_tokens = re.sub(r'очень', ' ',  string_tokens)\n",
    "    string_tokens = re.sub(r'лох', ' ',  string_tokens)\n",
    "    string_tokens = re.sub(r'\\bпи.де\\w+', ' ',  string_tokens)\n",
    "    string_tokens = re.sub(r'нету', ' ',  string_tokens)\n",
    "    string_tokens = re.sub(r'ой', ' ',  string_tokens)\n",
    "    string_tokens = re.sub(r'\\bхот\\w+', ' ',  string_tokens)\n",
    "    string_tokens = re.sub(r'\\bпрост\\w+', ' ',  string_tokens)\n",
    "    string_tokens = re.sub(r'\\bника\\w+', ' ',  string_tokens)\n",
    "    string_tokens = re.sub(r'\\w+ть\\b', ' ',  string_tokens)\n",
    "    string_tokens = re.sub(r'мочь', ' ',  string_tokens)\n",
    "    clear_tokens = string_tokens.split()\n",
    "    clear_tokens = [w for w in clear_tokens if len(w)>2]\n",
    "    return clear_tokens\n",
    "\n",
    "def preprocess(text):\n",
    "    return (clear_tokens(lemmatize(find_words(text))))"
   ]
  },
  {
   "cell_type": "code",
   "execution_count": 14,
   "id": "ab126c85",
   "metadata": {},
   "outputs": [
    {
     "data": {
      "text/html": [
       "<div>\n",
       "<style scoped>\n",
       "    .dataframe tbody tr th:only-of-type {\n",
       "        vertical-align: middle;\n",
       "    }\n",
       "\n",
       "    .dataframe tbody tr th {\n",
       "        vertical-align: top;\n",
       "    }\n",
       "\n",
       "    .dataframe thead th {\n",
       "        text-align: right;\n",
       "    }\n",
       "</style>\n",
       "<table border=\"1\" class=\"dataframe\">\n",
       "  <thead>\n",
       "    <tr style=\"text-align: right;\">\n",
       "      <th></th>\n",
       "      <th>text</th>\n",
       "      <th>label</th>\n",
       "    </tr>\n",
       "  </thead>\n",
       "  <tbody>\n",
       "    <tr>\n",
       "      <th>0</th>\n",
       "      <td>[школотый, поверь, самый, общество, предмет, тип]</td>\n",
       "      <td>positive</td>\n",
       "    </tr>\n",
       "    <tr>\n",
       "      <th>1</th>\n",
       "      <td>[таки, немного, похожий, мальчик, хороший]</td>\n",
       "      <td>positive</td>\n",
       "    </tr>\n",
       "    <tr>\n",
       "      <th>2</th>\n",
       "      <td>[испугаться]</td>\n",
       "      <td>positive</td>\n",
       "    </tr>\n",
       "    <tr>\n",
       "      <th>3</th>\n",
       "      <td>[угол, голод, порция]</td>\n",
       "      <td>positive</td>\n",
       "    </tr>\n",
       "    <tr>\n",
       "      <th>4</th>\n",
       "      <td>[страшилка, создаться, ощущение, автор]</td>\n",
       "      <td>positive</td>\n",
       "    </tr>\n",
       "  </tbody>\n",
       "</table>\n",
       "</div>"
      ],
      "text/plain": [
       "                                                text     label\n",
       "0  [школотый, поверь, самый, общество, предмет, тип]  positive\n",
       "1         [таки, немного, похожий, мальчик, хороший]  positive\n",
       "2                                       [испугаться]  positive\n",
       "3                              [угол, голод, порция]  positive\n",
       "4            [страшилка, создаться, ощущение, автор]  positive"
      ]
     },
     "execution_count": 14,
     "metadata": {},
     "output_type": "execute_result"
    }
   ],
   "source": [
    "# Препроессинг\n",
    "df['text'] = df['text'].apply(preprocess)\n",
    "df.head()"
   ]
  },
  {
   "cell_type": "code",
   "execution_count": 17,
   "id": "eec49eb1",
   "metadata": {},
   "outputs": [],
   "source": [
    "# Формируем словарь уникальных токенов\n",
    "\n",
    "dictionary = corpora.Dictionary(df['text'])"
   ]
  },
  {
   "cell_type": "code",
   "execution_count": 18,
   "id": "b96f9b56",
   "metadata": {},
   "outputs": [
    {
     "data": {
      "text/plain": [
       "8172"
      ]
     },
     "execution_count": 18,
     "metadata": {},
     "output_type": "execute_result"
    }
   ],
   "source": [
    "# Убираем редкие слова\n",
    "dictionary.filter_extremes(no_below = 10, no_above = 0.9, keep_n=None)\n",
    "\n",
    "dictionary.save('tweet.dict')\n",
    "\n",
    "len(dictionary.keys())"
   ]
  },
  {
   "cell_type": "code",
   "execution_count": 19,
   "id": "19a37a4d",
   "metadata": {},
   "outputs": [],
   "source": [
    "# Векторизация твитов\n",
    "\n",
    "corpus = [dictionary.doc2bow(text) for text in df['text']]\n",
    "corpora.MmCorpus.serialize('tweet.model', corpus)"
   ]
  },
  {
   "cell_type": "code",
   "execution_count": 20,
   "id": "4bd411d5",
   "metadata": {},
   "outputs": [
    {
     "name": "stdout",
     "output_type": "stream",
     "text": [
      "['школотый', 'поверь', 'самый', 'общество', 'предмет', 'тип']\n",
      "[(0, 1.0), (1, 1.0), (2, 1.0), (3, 1.0), (4, 1.0), (5, 1.0)]\n"
     ]
    }
   ],
   "source": [
    "# Итерация по словарю\n",
    "\n",
    "mm = corpora.MmCorpus('tweet.model')\n",
    "\n",
    "print(df['text'].values[0])\n",
    "print(mm[0])"
   ]
  },
  {
   "cell_type": "code",
   "execution_count": 21,
   "id": "fe27000f",
   "metadata": {},
   "outputs": [],
   "source": [
    "# Обучение модели\n",
    "\n",
    "lda = ldamodel.LdaModel(corpus, id2word=dictionary, num_topics=3)"
   ]
  },
  {
   "cell_type": "code",
   "execution_count": 22,
   "id": "dc84bfad",
   "metadata": {},
   "outputs": [
    {
     "data": {
      "text/plain": [
       "[(0,\n",
       "  '0.038*\"сегодня\" + 0.021*\"школа\" + 0.015*\"хороший\" + 0.013*\"никто\" + 0.013*\"день\" + 0.013*\"жаль\" + 0.010*\"урок\" + 0.009*\"первый\" + 0.008*\"любимый\" + 0.008*\"мама\" + 0.008*\"каникулы\" + 0.007*\"жалко\" + 0.007*\"бояться\" + 0.007*\"дом\" + 0.007*\"вроде\" + 0.006*\"рука\" + 0.006*\"маленький\" + 0.006*\"фотка\" + 0.006*\"втор\" + 0.006*\"ранний\"'),\n",
       " (1,\n",
       "  '0.023*\"человек\" + 0.021*\"больш\" + 0.019*\"время\" + 0.013*\"друг\" + 0.010*\"дом\" + 0.009*\"найти\" + 0.008*\"жизнь\" + 0.008*\"пока\" + 0.007*\"твиттер\" + 0.007*\"спасибо\" + 0.007*\"нужный\" + 0.007*\"вечер\" + 0.006*\"деньга\" + 0.006*\"город\" + 0.006*\"новый\" + 0.006*\"столько\" + 0.005*\"нога\" + 0.005*\"ужас\" + 0.005*\"получиться\" + 0.005*\"погода\"'),\n",
       " (2,\n",
       "  '0.029*\"завтра\" + 0.022*\"день\" + 0.012*\"утро\" + 0.011*\"час\" + 0.010*\"год\" + 0.010*\"работа\" + 0.010*\"новый\" + 0.009*\"ночь\" + 0.009*\"голова\" + 0.009*\"неделя\" + 0.008*\"каждый\" + 0.008*\"скоро\" + 0.008*\"остаться\" + 0.007*\"снова\" + 0.007*\"дом\" + 0.007*\"телефон\" + 0.007*\"улица\" + 0.007*\"настроение\" + 0.007*\"казаться\" + 0.007*\"экзамен\"')]"
      ]
     },
     "execution_count": 22,
     "metadata": {},
     "output_type": "execute_result"
    }
   ],
   "source": [
    "# Определяем тематики\n",
    "\n",
    "lda.show_topics(num_topics=3, num_words=20, formatted=True)"
   ]
  },
  {
   "cell_type": "code",
   "execution_count": 23,
   "id": "e27bd4d4",
   "metadata": {},
   "outputs": [
    {
     "name": "stdout",
     "output_type": "stream",
     "text": [
      "-8.013653792247394\n"
     ]
    }
   ],
   "source": [
    "# Оценка качества модели\n",
    "\n",
    "print(lda.log_perplexity(corpus))"
   ]
  },
  {
   "cell_type": "code",
   "execution_count": 26,
   "id": "39467ddc",
   "metadata": {},
   "outputs": [
    {
     "name": "stdout",
     "output_type": "stream",
     "text": [
      "Персплексия:  0.0003309134186718147\n"
     ]
    }
   ],
   "source": [
    "print('Персплексия: ', np.exp(lda.log_perplexity(corpus)))"
   ]
  },
  {
   "cell_type": "code",
   "execution_count": 29,
   "id": "965c8239",
   "metadata": {},
   "outputs": [
    {
     "name": "stderr",
     "output_type": "stream",
     "text": [
      "C:\\Users\\Uliana\\anaconda3\\lib\\site-packages\\ipykernel\\ipkernel.py:287: DeprecationWarning: `should_run_async` will not call `transform_cell` automatically in the future. Please pass the result to `transformed_cell` argument and any exception that happen during thetransform in `preprocessing_exc_tuple` in IPython 7.17 and above.\n",
      "  and should_run_async(code)\n"
     ]
    },
    {
     "data": {
      "text/html": [
       "\n",
       "<link rel=\"stylesheet\" type=\"text/css\" href=\"https://cdn.jsdelivr.net/gh/bmabey/pyLDAvis@3.3.1/pyLDAvis/js/ldavis.v1.0.0.css\">\n",
       "\n",
       "\n",
       "<div id=\"ldavis_el1815219876395647688106271533\"></div>\n",
       "<script type=\"text/javascript\">\n",
       "\n",
       "var ldavis_el1815219876395647688106271533_data = {\"mdsDat\": {\"x\": [-0.2461897729994601, -0.09182959604973008, 0.3380193690491902], \"y\": [0.24053428176117456, -0.32691093335224375, 0.0863766515910691], \"topics\": [1, 2, 3], \"cluster\": [1, 1, 1], \"Freq\": [35.00148671725918, 33.29767818302951, 31.700835099711306]}, \"tinfo\": {\"Term\": [\"\\u0441\\u0435\\u0433\\u043e\\u0434\\u043d\\u044f\", \"\\u0437\\u0430\\u0432\\u0442\\u0440\\u0430\", \"\\u0448\\u043a\\u043e\\u043b\\u0430\", \"\\u0431\\u043e\\u043b\\u044c\\u0448\", \"\\u0432\\u0440\\u0435\\u043c\\u044f\", \"\\u0447\\u0435\\u043b\\u043e\\u0432\\u0435\\u043a\", \"\\u0434\\u0435\\u043d\\u044c\", \"\\u043d\\u0438\\u043a\\u0442\\u043e\", \"\\u0434\\u0440\\u0443\\u0433\", \"\\u0436\\u0430\\u043b\\u044c\", \"\\u0443\\u0442\\u0440\\u043e\", \"\\u0447\\u0430\\u0441\", \"\\u0445\\u043e\\u0440\\u043e\\u0448\\u0438\\u0439\", \"\\u0433\\u043e\\u0434\", \"\\u0443\\u0440\\u043e\\u043a\", \"\\u0440\\u0430\\u0431\\u043e\\u0442\\u0430\", \"\\u043d\\u043e\\u0447\\u044c\", \"\\u0433\\u043e\\u043b\\u043e\\u0432\\u0430\", \"\\u043d\\u0435\\u0434\\u0435\\u043b\\u044f\", \"\\u043d\\u0430\\u0439\\u0442\\u0438\", \"\\u0441\\u043a\\u043e\\u0440\\u043e\", \"\\u043a\\u0430\\u043d\\u0438\\u043a\\u0443\\u043b\\u044b\", \"\\u043a\\u0430\\u0436\\u0434\\u044b\\u0439\", \"\\u043e\\u0441\\u0442\\u0430\\u0442\\u044c\\u0441\\u044f\", \"\\u0436\\u0430\\u043b\\u043a\\u043e\", \"\\u0443\\u043b\\u0438\\u0446\\u0430\", \"\\u0442\\u0435\\u043b\\u0435\\u0444\\u043e\\u043d\", \"\\u0431\\u043e\\u044f\\u0442\\u044c\\u0441\\u044f\", \"\\u0441\\u043d\\u043e\\u0432\\u0430\", \"\\u043f\\u0440\\u0438\\u0439\\u0442\\u0438\\u0441\\u044c\", \"\\u0433\\u043e\\u0434\", \"\\u043d\\u043e\\u0447\\u044c\", \"\\u0443\\u0442\\u0440\\u043e\", \"\\u0443\\u043b\\u0438\\u0446\\u0430\", \"\\u0431\\u043e\\u043b\\u044c\", \"\\u043f\\u0440\\u0430\\u0432\\u0434\\u0430\", \"\\u043c\\u0430\\u043b\\u043e\", \"\\u0443\\u0436\\u0430\\u0441\\u043d\\u044b\\u0439\", \"\\u0433\\u043e\\u043b\\u043e\\u0432\\u0430\", \"\\u0442\\u0432\\u0438\\u0442\", \"\\u043d\\u0435\\u0434\\u0435\\u043b\\u044f\", \"\\u0432\\u044b\\u0445\\u043e\\u0434\\u043d\", \"\\u0443\\u0447\\u0451\\u0431\\u0430\", \"\\u0437\\u0438\\u043c\\u0430\", \"\\u0441\\u043b\\u0435\\u0437\\u0430\", \"\\u0442\\u0430\\u043a\\u0438\", \"\\u0433\\u043b\\u0430\\u0437\", \"\\u0442\\u0435\\u043c\\u043f\\u0435\\u0440\\u0430\\u0442\\u0443\\u0440\\u0430\", \"\\u0432\\u044b\\u0439\\u0442\\u0438\", \"\\u043f\\u0435\\u0447\\u0430\\u043b\\u044c\", \"\\u043d\\u0430\\u0447\\u0430\\u043b\\u043e\", \"\\u043f\\u043e\\u043d\\u0435\\u0434\\u0435\\u043b\\u044c\\u043d\\u0438\\u043a\", \"\\u0446\\u0435\\u043b\\u044b\\u0439\", \"\\u0434\\u0443\\u0448\\u0430\", \"\\u043f\\u0440\\u0438\\u0439\\u0442\\u0438\\u0441\\u044c\", \"\\u0441\\u043a\\u043e\\u043b\\u044c\\u043a\\u043e\", \"\\u0441\\u0435\\u0440\\u0434\\u0446\\u0435\", \"\\u0447\\u0435\\u0440\\u0442\\u0430\", \"\\u0443\\u0442\\u0440\\u043e\\u043c\", \"\\u0441\\u043b\\u043e\\u0432\\u043e\", \"\\u0437\\u0430\\u0432\\u0442\\u0440\\u0430\", \"\\u0447\\u0430\\u0441\", \"\\u0440\\u0430\\u0431\\u043e\\u0442\\u0430\", \"\\u0441\\u043a\\u043e\\u0440\\u043e\", \"\\u043f\\u0440\\u043e\\u0441\\u043d\\u0443\\u0442\\u044c\\u0441\\u044f\", \"\\u043d\\u0430\\u0447\\u0430\\u0442\\u044c\\u0441\\u044f\", \"\\u0434\\u043e\\u0431\\u0440\\u044b\\u0439\", \"\\u043e\\u0441\\u0442\\u0430\\u0442\\u044c\\u0441\\u044f\", \"\\u043a\\u0430\\u0436\\u0434\\u044b\\u0439\", \"\\u0442\\u0435\\u043b\\u0435\\u0444\\u043e\\u043d\", \"\\u043a\\u0430\\u0437\\u0430\\u0442\\u044c\\u0441\\u044f\", \"\\u0441\\u043d\\u043e\\u0432\\u0430\", \"\\u043d\\u0430\\u0434\\u0435\\u044f\\u0442\\u044c\\u0441\\u044f\", \"\\u0434\\u0435\\u043d\\u044c\", \"\\u044d\\u043a\\u0437\\u0430\\u043c\\u0435\\u043d\", \"\\u043d\\u043e\\u0432\\u044b\\u0439\", \"\\u043d\\u0430\\u0441\\u0442\\u0440\\u043e\\u0435\\u043d\\u0438\\u0435\", \"\\u043f\\u043e\\u0441\\u043b\\u0435\\u0434\\u043d\\u0438\\u0439\", \"\\u0434\\u043e\\u043c\", \"\\u0438\\u0434\\u0442\\u0438\", \"\\u0437\\u0430\\u043a\\u043e\\u043d\\u0447\\u0438\\u0442\\u044c\\u0441\\u044f\", \"\\u0448\\u043a\\u043e\\u043b\\u0430\", \"\\u043d\\u0438\\u043a\\u0442\\u043e\", \"\\u0436\\u0430\\u043b\\u044c\", \"\\u043a\\u0430\\u043d\\u0438\\u043a\\u0443\\u043b\\u044b\", \"\\u0436\\u0430\\u043b\\u043a\\u043e\", \"\\u0431\\u043e\\u044f\\u0442\\u044c\\u0441\\u044f\", \"\\u0432\\u0440\\u043e\\u0434\\u0435\", \"\\u0447\\u0443\\u0432\\u0441\\u0442\\u0432\\u043e\", \"\\u0444\\u043e\\u0442\\u043a\\u0430\", \"\\u0431\\u043e\\u0433\", \"\\u0434\\u043e\\u043b\\u0433\\u043e\", \"\\u043a\\u043b\\u0430\\u0441\\u0441\", \"\\u0441\\u0440\\u0430\\u0437\\u0443\", \"\\u0441\\u0435\\u0440\\u0438\\u044f\", \"\\u043b\\u0435\\u043d\\u044c\", \"\\u0441\\u0435\\u0440\\u0438\\u0430\\u043b\", \"\\u043f\\u043e\\u0445\\u043e\\u0434\", \"\\u0440\\u0443\\u043a\\u0430\", \"\\u0434\\u043e\\u043b\\u0436\\u043d\\u044b\\u0439\", \"\\u043c\\u0443\\u0437\\u044b\\u043a\\u0430\", \"\\u0441\\u0435\\u0437\\u043e\\u043d\", \"\\u0441\\u043e\\u0441\\u043a\\u0443\\u0447\\u0438\\u0442\\u044c\\u0441\\u044f\", \"\\u0441\\u0435\\u0441\\u0441\\u0438\\u044f\", \"\\u043a\\u0430\\u0442\\u043e\\u043a\", \"\\u043d\\u043e\\u0440\\u043c\\u0430\", \"\\u0442\\u0443\\u043f\", \"\\u043b\\u0435\\u0447\\u044c\", \"\\u0432\\u043c\\u0435\\u0441\\u0442\\u0435\", \"\\u0431\\u0438\\u043b\\u0435\\u0442\", \"\\u043b\\u044e\\u0431\\u043e\\u0432\\u044c\", \"\\u0441\\u0435\\u0433\\u043e\\u0434\\u043d\\u044f\", \"\\u043c\\u0435\\u0441\\u044f\\u0446\", \"\\u0431\\u044b\\u0441\\u0442\\u0440\\u043e\", \"\\u0447\\u0451\\u0440\\u043d\\u044b\\u0439\", \"\\u043d\\u0435\\u0447\\u0435\\u0433\\u043e\", \"\\u0443\\u0440\\u043e\\u043a\", \"\\u0443\\u0447\\u0438\\u0442\\u044c\\u0441\\u044f\", \"\\u043c\\u044b\\u0441\\u043b\\u044c\", \"\\u043c\\u0430\\u043b\\u0435\\u043d\\u044c\\u043a\\u0438\\u0439\", \"\\u0440\\u0430\\u043d\\u043d\\u0438\\u0439\", \"\\u043f\\u0430\\u0440\\u0435\\u043d\\u044c\", \"\\u0445\\u043e\\u0440\\u043e\\u0448\\u0438\\u0439\", \"\\u043f\\u0435\\u0440\\u0432\\u044b\\u0439\", \"\\u043b\\u044e\\u0431\\u0438\\u043c\\u044b\\u0439\", \"\\u0440\\u0435\\u0431\\u0451\\u043d\\u043e\\u043a\", \"\\u043c\\u0430\\u043c\\u0430\", \"\\u0432\\u0442\\u043e\\u0440\", \"\\u0434\\u0435\\u043d\\u044c\", \"\\u0432\\u0447\\u0435\\u0440\\u0430\", \"\\u043d\\u0440\\u0430\\u0432\\u0438\\u0442\\u044c\\u0441\\u044f\", \"\\u0434\\u043e\\u043c\", \"\\u0438\\u0434\\u0442\\u0438\", \"\\u0441\\u0430\\u043c\\u044b\\u0439\", \"\\u0434\\u0440\\u0443\\u0433\", \"\\u0432\\u0440\\u0435\\u043c\\u044f\", \"\\u0441\\u043f\\u0430\\u0441\\u0438\\u0431\\u043e\", \"\\u0442\\u0432\\u0438\\u0442\\u0442\\u0435\\u0440\", \"\\u043d\\u0443\\u0436\\u043d\\u044b\\u0439\", \"\\u0434\\u0435\\u043d\\u044c\\u0433\\u0430\", \"\\u0443\\u0436\\u0430\\u0441\", \"\\u0432\\u0435\\u0447\\u0435\\u0440\", \"\\u043f\\u0440\\u043e\\u0431\\u043b\\u0435\\u043c\\u0430\", \"\\u0441\\u043b\\u0438\\u0448\\u043a\\u043e\\u043c\", \"\\u043f\\u043e\\u043b\\u0443\\u0447\\u0430\\u0442\\u044c\\u0441\\u044f\", \"\\u043f\\u043e\\u0433\\u043e\\u0434\\u0430\", \"\\u043f\\u043e\\u0436\\u0430\\u043b\\u0443\\u0439\\u0441\\u0442\\u0430\", \"\\u043a\\u0440\\u0443\\u0442\\u043e\", \"\\u0431\\u043e\\u043b\\u044c\\u043d\\u0438\\u0446\\u0430\", \"\\u0440\\u044f\\u0434\\u043e\\u043c\", \"\\u043b\\u0438\\u0448\\u044c\", \"\\u043f\\u043e\\u0434\\u0440\\u0443\\u0433\\u0430\", \"\\u0440\\u043e\\u0434\\u043d\\u044b\\u0439\", \"\\u043f\\u0430\\u043f\\u0430\", \"\\u0441\\u043e\\u0436\\u0430\\u043b\\u0435\\u043d\\u0438\\u0435\", \"\\u043a\\u043d\\u0438\\u0433\\u0430\", \"\\u0431\\u0440\\u0430\\u0442\", \"\\u043c\\u0430\\u0448\\u0438\\u043d\\u0430\", \"\\u043f\\u0440\\u0438\\u0432\\u0435\\u0442\", \"\\u043f\\u0440\\u044f\\u043c\", \"\\u0436\\u043e\\u043f\\u0430\", \"\\u043b\\u0438\\u0431\\u043e\", \"\\u0431\\u0435\\u0434\\u043d\\u044b\\u0439\", \"\\u0434\\u0430\\u043b\\u0451\\u043a\\u0438\\u0439\", \"\\u0431\\u043e\\u043b\\u044c\\u0448\", \"\\u0433\\u043e\\u0440\\u043e\\u0434\", \"\\u043f\\u043e\\u043b\\u0443\\u0447\\u0438\\u0442\\u044c\\u0441\\u044f\", \"\\u043d\\u0430\\u0439\\u0442\\u0438\", \"\\u0438\\u043d\\u0442\\u0435\\u0440\\u043d\\u0435\\u0442\", \"\\u0441\\u0442\\u043e\\u043b\\u044c\\u043a\\u043e\", \"\\u043d\\u043e\\u0433\\u0430\", \"\\u0432\\u043e\\u043f\\u0440\\u043e\\u0441\", \"\\u0447\\u0435\\u043b\\u043e\\u0432\\u0435\\u043a\", \"\\u043f\\u043e\\u043a\\u0430\", \"\\u043c\\u043e\\u043c\\u0435\\u043d\\u0442\", \"\\u0434\\u043e\\u043c\", \"\\u0436\\u0438\\u0437\\u043d\\u044c\", \"\\u043d\\u043e\\u0432\\u044b\\u0439\", \"\\u043c\\u0430\\u043c\\u0430\", \"\\u0441\\u0430\\u043c\\u044b\\u0439\"], \"Freq\": [9298.0, 7556.0, 5076.0, 4823.0, 4432.0, 6550.0, 8828.0, 3265.0, 3102.0, 3136.0, 3157.0, 2788.0, 4740.0, 2544.0, 2541.0, 2507.0, 2366.0, 2348.0, 2233.0, 2182.0, 2078.0, 1929.0, 2114.0, 2012.0, 1765.0, 1785.0, 1862.0, 1673.0, 1955.0, 1718.0, 2543.842291542166, 2365.795745644833, 3156.0421259546674, 1784.5898394262301, 1538.6086616093787, 1529.7630852322438, 1427.6772523687393, 1408.5140588785516, 2347.265279846944, 1236.2031390666486, 2232.0581543727903, 1226.018961677617, 1352.6281572514915, 1007.3877025974681, 1006.0564281590774, 1082.9970403724094, 1279.6288212072839, 925.4118727151146, 1194.7141945946394, 912.8779671164602, 934.2585300621109, 915.8064946330663, 897.9632253977229, 904.5388251194656, 1716.7899684161198, 1011.0478064948247, 852.5070014260308, 861.5986786083139, 804.8096266619216, 1414.08261506649, 7544.621461852151, 2785.0513477435234, 2504.9338623452227, 2072.4205252178017, 1279.2883157008928, 1018.4030857561572, 1026.629866941431, 1996.0775091762682, 2090.663453032516, 1844.5126830551621, 1736.6436614323188, 1907.455996692814, 1292.1887301364968, 5686.035992492642, 1731.5280316163735, 2459.453616821051, 1744.9638864567362, 1662.0661093902354, 1865.3685552407885, 1512.2519740138048, 1304.3059218535202, 5075.375893636574, 3264.625518220697, 3136.124931395254, 1928.662839851071, 1765.0764289045203, 1672.6159752046021, 1619.2260884682319, 1371.8493587900587, 1435.2324101836796, 1248.8021131827475, 1169.67753366166, 1025.905946065095, 1064.8768773184113, 996.9110402986912, 951.2192690501831, 923.8581261309615, 920.5165592207373, 1583.803879563958, 1180.0173666042797, 1013.4663362338041, 870.4822363837005, 847.5070642845305, 881.5912752910879, 815.0607295260363, 799.873310775596, 735.3323941645104, 728.3914872221792, 715.317385304977, 728.4014279409753, 946.5579288933684, 9258.355864739875, 1301.2352914308528, 998.354272702283, 843.6917135755974, 939.3430808784688, 2508.9329894366147, 1044.0417020276388, 916.6651591235268, 1494.2563992546795, 1425.4737093766523, 1366.304265880051, 3782.3870568832626, 2187.413122965514, 2069.67022205553, 1026.4779373098404, 1936.0747311942894, 1432.5125381121811, 3141.7717167159335, 1397.7986339874071, 1240.9425467103015, 1667.8158648986177, 1314.056876238409, 1278.9996174011978, 3101.3472983375245, 4430.99889777766, 1556.5757015539543, 1557.2835431727697, 1538.2329547021573, 1421.39209396318, 1252.6916907653952, 1521.6728112939634, 1126.2777262949585, 1109.3772053817281, 1030.9064296032955, 1176.9240280015536, 925.75915156851, 945.8533903374035, 904.7593606932958, 897.1531907609157, 881.575671195162, 847.0995853905916, 823.9200839825646, 1172.8167625948206, 782.0339070097011, 848.6874698396231, 778.4869754247783, 772.2773975660359, 719.4939189170625, 1130.8550368276944, 736.3362960858244, 709.7537810983598, 709.9024854925385, 758.1834953228907, 4817.156035035303, 1405.6876263154904, 1211.019976640464, 2144.2956077441336, 1038.6452586495752, 1312.3006140819205, 1262.1396957014595, 1001.2388695398199, 5374.507936689354, 1801.2215165866035, 1079.8192971319556, 2370.6878768051806, 1868.707747876833, 1333.6569365240114, 1135.8048154260248, 1028.8733022242177], \"Total\": [9298.0, 7556.0, 5076.0, 4823.0, 4432.0, 6550.0, 8828.0, 3265.0, 3102.0, 3136.0, 3157.0, 2788.0, 4740.0, 2544.0, 2541.0, 2507.0, 2366.0, 2348.0, 2233.0, 2182.0, 2078.0, 1929.0, 2114.0, 2012.0, 1765.0, 1785.0, 1862.0, 1673.0, 1955.0, 1718.0, 2544.660372422257, 2366.5829188549433, 3157.1862275809744, 1785.4675586517556, 1539.3995579844536, 1530.5787485093792, 1428.4921757263487, 1409.3294489188088, 2348.739461943112, 1237.0571353640362, 2233.7030577814185, 1226.9289399589518, 1353.6347489664456, 1008.1687242375648, 1006.8573837847539, 1083.8618783118513, 1280.68032265185, 926.1883101081316, 1195.732481819346, 913.6634099847106, 935.088562691223, 916.6226910218801, 898.7642382209006, 905.3491402898383, 1718.3354793481785, 1011.9714483938843, 853.3092709523626, 862.4164499557984, 805.6308069551983, 1415.5459446493198, 7556.532356540786, 2788.1465577410436, 2507.603457769773, 2078.168412390516, 1282.7888187965, 1019.5288823050871, 1027.8886340985825, 2012.0695944595054, 2114.7826601620254, 1862.6064200468809, 1751.6716774971092, 1955.363706628969, 1329.4710804201566, 8828.33204382298, 2005.4013488716128, 3938.496822179167, 2740.129209625595, 2708.871090250191, 5903.872296944586, 3288.202103620947, 1612.0284599049219, 5076.215234792063, 3265.462823663264, 3136.9431243662107, 1929.4606355495612, 1765.86546162783, 1673.4057770585493, 1620.0351934798612, 1372.6373364339286, 1436.082320864269, 1249.6435276187715, 1170.4766938073726, 1026.692042497376, 1065.7004540704936, 997.6898811247139, 951.9991020532468, 924.6445551616285, 921.317246838168, 1585.1864191416928, 1181.0592033684554, 1014.3715951214045, 871.2606230814978, 848.2653208640761, 882.4360117207367, 815.8572248954403, 800.656142912415, 736.110037334686, 729.1803922393299, 716.0989625648427, 729.2054622058996, 947.6204834532828, 9298.203226541826, 1303.883588159528, 999.7311918812001, 844.6754370251595, 941.5106495541346, 2541.3124062179886, 1047.7300433529024, 918.7380649531221, 1518.1332894132536, 1449.3969791333438, 1398.4532166244612, 4740.993532471429, 2557.4980988912166, 2445.3363970891023, 1081.704425383782, 3072.48512837486, 1874.7770528195606, 8828.33204382298, 1927.7491608728365, 1780.0925447745453, 5903.872296944586, 3288.202103620947, 3345.451449863525, 3102.1216864552694, 4432.800860188819, 1557.334823998269, 1558.0441899694063, 1539.0338738993933, 1422.1505393609104, 1253.5018125385116, 1522.7327190029162, 1127.0798440679691, 1110.1916794566478, 1031.6737890523477, 1177.846372918516, 926.5203028396825, 946.646784300935, 905.5353135647867, 897.9270613951875, 882.3524378592864, 847.8686240698208, 824.6710766791897, 1173.904940389689, 782.7918556922631, 849.5113948616787, 779.2498948623434, 773.0413129751756, 720.2376234586957, 1132.0301834603808, 737.1028945143921, 710.4946947765974, 710.6557961765944, 758.9925059694216, 4823.398007565668, 1407.881849505886, 1212.521761542272, 2182.510251912006, 1043.9505282554942, 1336.4716634814552, 1300.2015378574092, 1016.4289786304024, 6550.067917418183, 2402.565348487401, 1272.6941759430222, 5903.872296944586, 3995.7052714710335, 3938.496822179167, 3072.48512837486, 3345.451449863525], \"Category\": [\"Default\", \"Default\", \"Default\", \"Default\", \"Default\", \"Default\", \"Default\", \"Default\", \"Default\", \"Default\", \"Default\", \"Default\", \"Default\", \"Default\", \"Default\", \"Default\", \"Default\", \"Default\", \"Default\", \"Default\", \"Default\", \"Default\", \"Default\", \"Default\", \"Default\", \"Default\", \"Default\", \"Default\", \"Default\", \"Default\", \"Topic1\", \"Topic1\", \"Topic1\", \"Topic1\", \"Topic1\", \"Topic1\", \"Topic1\", \"Topic1\", \"Topic1\", \"Topic1\", \"Topic1\", \"Topic1\", \"Topic1\", \"Topic1\", \"Topic1\", \"Topic1\", \"Topic1\", \"Topic1\", \"Topic1\", \"Topic1\", \"Topic1\", \"Topic1\", \"Topic1\", \"Topic1\", \"Topic1\", \"Topic1\", \"Topic1\", \"Topic1\", \"Topic1\", \"Topic1\", \"Topic1\", \"Topic1\", \"Topic1\", \"Topic1\", \"Topic1\", \"Topic1\", \"Topic1\", \"Topic1\", \"Topic1\", \"Topic1\", \"Topic1\", \"Topic1\", \"Topic1\", \"Topic1\", \"Topic1\", \"Topic1\", \"Topic1\", \"Topic1\", \"Topic1\", \"Topic1\", \"Topic1\", \"Topic2\", \"Topic2\", \"Topic2\", \"Topic2\", \"Topic2\", \"Topic2\", \"Topic2\", \"Topic2\", \"Topic2\", \"Topic2\", \"Topic2\", \"Topic2\", \"Topic2\", \"Topic2\", \"Topic2\", \"Topic2\", \"Topic2\", \"Topic2\", \"Topic2\", \"Topic2\", \"Topic2\", \"Topic2\", \"Topic2\", \"Topic2\", \"Topic2\", \"Topic2\", \"Topic2\", \"Topic2\", \"Topic2\", \"Topic2\", \"Topic2\", \"Topic2\", \"Topic2\", \"Topic2\", \"Topic2\", \"Topic2\", \"Topic2\", \"Topic2\", \"Topic2\", \"Topic2\", \"Topic2\", \"Topic2\", \"Topic2\", \"Topic2\", \"Topic2\", \"Topic2\", \"Topic2\", \"Topic2\", \"Topic2\", \"Topic2\", \"Topic2\", \"Topic2\", \"Topic2\", \"Topic3\", \"Topic3\", \"Topic3\", \"Topic3\", \"Topic3\", \"Topic3\", \"Topic3\", \"Topic3\", \"Topic3\", \"Topic3\", \"Topic3\", \"Topic3\", \"Topic3\", \"Topic3\", \"Topic3\", \"Topic3\", \"Topic3\", \"Topic3\", \"Topic3\", \"Topic3\", \"Topic3\", \"Topic3\", \"Topic3\", \"Topic3\", \"Topic3\", \"Topic3\", \"Topic3\", \"Topic3\", \"Topic3\", \"Topic3\", \"Topic3\", \"Topic3\", \"Topic3\", \"Topic3\", \"Topic3\", \"Topic3\", \"Topic3\", \"Topic3\", \"Topic3\", \"Topic3\", \"Topic3\", \"Topic3\", \"Topic3\", \"Topic3\", \"Topic3\", \"Topic3\"], \"logprob\": [30.0, 29.0, 28.0, 27.0, 26.0, 25.0, 24.0, 23.0, 22.0, 21.0, 20.0, 19.0, 18.0, 17.0, 16.0, 15.0, 14.0, 13.0, 12.0, 11.0, 10.0, 9.0, 8.0, 7.0, 6.0, 5.0, 4.0, 3.0, 2.0, 1.0, -4.619, -4.6916, -4.4034, -4.9735, -5.1218, -5.1276, -5.1966, -5.2102, -4.6994, -5.3406, -4.7498, -5.3489, -5.2506, -5.5453, -5.5466, -5.473, -5.3061, -5.6302, -5.3748, -5.6438, -5.6207, -5.6406, -5.6603, -5.653, -5.0122, -5.5417, -5.7123, -5.7017, -5.7698, -5.2062, -3.5319, -4.5284, -4.6344, -4.824, -5.3064, -5.5345, -5.5264, -4.8615, -4.8152, -4.9405, -5.0007, -4.9069, -5.2963, -3.8147, -5.0037, -4.6527, -4.996, -5.0446, -4.9292, -5.1391, -5.287, -3.8784, -4.3196, -4.3598, -4.846, -4.9346, -4.9884, -5.0208, -5.1866, -5.1415, -5.2806, -5.3461, -5.4772, -5.4399, -5.5059, -5.5528, -5.582, -5.5856, -5.043, -5.3373, -5.4894, -5.6415, -5.6682, -5.6288, -5.7073, -5.7261, -5.8102, -5.8197, -5.8378, -5.8197, -5.5577, -3.2773, -5.2395, -5.5044, -5.6728, -5.5654, -4.5829, -5.4597, -5.5898, -5.1012, -5.1483, -5.1907, -4.1724, -4.7201, -4.7754, -5.4766, -4.8421, -5.1434, -4.358, -5.1679, -5.2869, -4.9913, -5.2297, -5.2567, -4.3218, -3.965, -5.0112, -5.0107, -5.023, -5.102, -5.2283, -5.0338, -5.3347, -5.3498, -5.4232, -5.2907, -5.5308, -5.5093, -5.5537, -5.5622, -5.5797, -5.6196, -5.6473, -5.2942, -5.6995, -5.6177, -5.704, -5.7121, -5.7828, -5.3307, -5.7597, -5.7965, -5.7963, -5.7305, -3.8815, -5.1131, -5.2622, -4.6908, -5.4157, -5.1819, -5.2208, -5.4524, -3.772, -4.8652, -5.3768, -4.5905, -4.8284, -5.1657, -5.3263, -5.4252], \"loglift\": [30.0, 29.0, 28.0, 27.0, 26.0, 25.0, 24.0, 23.0, 22.0, 21.0, 20.0, 19.0, 18.0, 17.0, 16.0, 15.0, 14.0, 13.0, 12.0, 11.0, 10.0, 9.0, 8.0, 7.0, 6.0, 5.0, 4.0, 3.0, 2.0, 1.0, 1.0495, 1.0494, 1.0494, 1.0493, 1.0493, 1.0492, 1.0492, 1.0492, 1.0492, 1.0491, 1.049, 1.049, 1.049, 1.049, 1.049, 1.049, 1.049, 1.0489, 1.0489, 1.0489, 1.0489, 1.0489, 1.0489, 1.0489, 1.0489, 1.0489, 1.0488, 1.0488, 1.0488, 1.0487, 1.0482, 1.0487, 1.0487, 1.047, 1.047, 1.0487, 1.0486, 1.0418, 1.0383, 1.04, 1.0412, 1.025, 1.0213, 0.6098, 0.9029, 0.5789, 0.5985, 0.5613, -0.1024, 0.273, 0.838, 1.0995, 1.0994, 1.0994, 1.0993, 1.0992, 1.0992, 1.0992, 1.0991, 1.0991, 1.099, 1.099, 1.0989, 1.0989, 1.0989, 1.0989, 1.0988, 1.0988, 1.0988, 1.0988, 1.0988, 1.0988, 1.0988, 1.0987, 1.0987, 1.0987, 1.0986, 1.0986, 1.0986, 1.0986, 1.0986, 1.0954, 1.0976, 1.0983, 1.0985, 1.0974, 1.0869, 1.0962, 1.0974, 1.0838, 1.083, 1.0764, 0.8738, 0.9434, 0.9329, 1.0473, 0.6379, 0.8306, 0.0665, 0.7782, 0.7389, -0.1644, 0.1825, 0.1382, 1.1486, 1.1484, 1.1483, 1.1483, 1.1483, 1.1483, 1.1482, 1.1481, 1.1481, 1.1481, 1.1481, 1.148, 1.148, 1.148, 1.148, 1.148, 1.1479, 1.1479, 1.1479, 1.1479, 1.1479, 1.1479, 1.1478, 1.1478, 1.1478, 1.1478, 1.1478, 1.1478, 1.1478, 1.1478, 1.1475, 1.1473, 1.1476, 1.1312, 1.1437, 1.1306, 1.1191, 1.1338, 0.951, 0.8608, 0.9845, 0.2364, 0.3889, 0.066, 0.1537, -0.0303]}, \"token.table\": {\"Topic\": [3, 2, 2, 1, 3, 1, 2, 3, 2, 3, 2, 3, 1, 3, 2, 1, 2, 3, 1, 3, 2, 1, 2, 3, 1, 2, 3, 1, 3, 1, 3, 1, 2, 1, 1, 2, 3, 2, 3, 3, 1, 2, 3, 3, 1, 3, 2, 2, 3, 1, 2, 3, 3, 1, 2, 2, 1, 2, 3, 3, 1, 2, 3, 1, 2, 3, 1, 1, 2, 3, 1, 2, 3, 1, 2, 1, 2, 3, 2, 2, 2, 3, 3, 2, 2, 3, 3, 1, 2, 3, 1, 2, 1, 2, 3, 1, 1, 2, 3, 3, 1, 2, 1, 3, 2, 3, 1, 2, 3, 1, 2, 1, 2, 3, 1, 2, 3, 1, 1, 2, 1, 2, 3, 2, 3, 2, 1, 2, 3, 1, 3, 2, 1, 1, 2, 3, 3, 1, 2, 3, 2, 3, 2, 3, 1, 2, 3, 1, 2, 3, 3, 3, 1, 2, 3, 3, 1, 3, 1, 1, 2, 3, 2, 1, 3, 1, 3, 3, 1, 2, 3, 1, 2, 3, 1, 2, 3, 1, 2, 3, 2, 3, 3, 2, 3, 3, 1, 2, 3, 1, 2, 3, 2, 1, 2, 2, 2, 1, 3, 1, 3, 1, 3, 1, 2, 3, 1, 2, 3, 3, 2, 3, 2, 1, 2, 3, 1, 1, 3, 1, 2, 3, 1, 2, 3, 1, 1, 1, 2, 1, 3, 1, 2, 3, 1, 2, 2, 1, 2, 3, 1, 1, 2, 3, 1, 2, 3, 1, 2, 2, 3, 2, 1, 2], \"Freq\": [0.9990771957674549, 0.998346882643675, 0.9994850310472158, 0.9997404455637386, 0.9994088429719219, 0.0002073227211255354, 0.0012439363267532123, 0.9986735476617039, 0.9997575142478218, 0.9983960281925169, 0.9982683426352413, 0.0010002688803960333, 0.0006567140690684042, 0.9995188131221112, 0.9984653481958603, 0.013773711980215719, 0.001967673140030817, 0.9848204065854238, 0.00022559100477105668, 0.9995937421405522, 0.9993610055608498, 0.22135965413906844, 0.7643575527259882, 0.0149351091949251, 0.27130085729784403, 0.7251980850906041, 0.003631177822342081, 0.9993874199869259, 0.0008363074644242058, 0.9992428738709327, 0.0008150431271377917, 0.9994687802726279, 0.0007808349845879905, 0.9997404870098133, 0.9992594061745473, 0.0004257602923623977, 0.0004257602923623977, 0.0014205737510586739, 0.9986633469942477, 0.9986923375901401, 0.6440627710619911, 0.35589961777642914, 0.00011327167975061399, 0.9991909862359385, 0.999135476286921, 0.0009728680392277712, 0.9995927353274998, 0.9991031750436943, 0.0008466976059692325, 0.31589436664563153, 0.28252643622783563, 0.40160082751570636, 0.9996384131350595, 0.9996143584013053, 0.9995098937905313, 0.9996993492298649, 0.3140872298466516, 0.21823431428388862, 0.4677522171979218, 0.9985037441548528, 0.9984738559968179, 0.0005293433298856556, 0.0010586866597713112, 0.8089187209988281, 0.006203364424837638, 0.18486025986016164, 0.9988407453936358, 0.4598257504716621, 0.3996104736241825, 0.14050231264411897, 0.0009578997978678757, 0.004789498989339379, 0.9952578899847229, 0.9887540877793072, 0.01134868393433925, 0.9916241852365434, 0.0005708832384781481, 0.007992365338694074, 0.9997612620122566, 0.998949295453564, 0.9993259492927474, 0.9993980129462984, 0.9993167627972109, 0.9989505220634222, 0.9983812068290744, 0.9993037319205418, 0.9996005701982968, 0.001226825071418052, 0.8465092992784559, 0.15212630885583844, 0.0010552747829551319, 0.9993452194585097, 0.0026348147609265376, 0.9841033132060618, 0.013174073804632688, 0.9996554578773955, 0.0003254694353977015, 0.6301088269299501, 0.3697332786117889, 0.9986529659441253, 0.0015338792651137375, 0.9977884619564863, 0.1508610659412617, 0.8485934959195971, 0.9986478376090171, 0.000985832021331705, 0.0010884495136826884, 0.9981082040470253, 0.0010884495136826884, 0.9718150466211612, 0.027830616660203533, 0.007789195943115048, 0.01008013592638418, 0.9823550648258038, 0.6368312829446582, 0.22261723931016705, 0.140504323171171, 0.9988358720931308, 0.9985004031453916, 0.000980845189730247, 0.9992375630344035, 0.0004476870802125464, 0.0004476870802125464, 0.997333381671972, 0.0021242457543598978, 0.9998582670548536, 0.6243498753515402, 0.036816076423738645, 0.33870790309839555, 0.029226238312731016, 0.970618756596488, 0.9991804935012073, 0.9997536875423637, 0.01067360236734569, 0.6971547651513684, 0.292119643737882, 0.9993282318752519, 0.992013400280112, 0.0004970007015431423, 0.007455010523147135, 0.0008518577319114446, 0.9992291195321245, 0.9767934913812879, 0.02288242439546209, 0.0981427904516602, 0.8551326004692464, 0.046529848859552046, 0.9992739011134071, 0.0008490071566142867, 0.9992814233350155, 0.9989755204460198, 0.9994384334179318, 0.0024973306152848078, 0.2476519526824101, 0.7496154063546565, 0.9993468971883384, 0.0008247274661100069, 0.9987449614592183, 0.9993206681135224, 0.6135397162241847, 0.3717415729469037, 0.014766298826093493, 0.9996556595035458, 0.9996218760322245, 0.9982816456425139, 0.9992228063936123, 0.0005819585360475319, 0.9990419098756379, 0.997046420470008, 0.001559103081266627, 0.0007795515406333135, 0.0008833686721525463, 0.0008833686721525463, 0.9990899682045299, 0.9989617745334869, 0.0007975742710846203, 0.0003987871355423101, 0.014488784164954445, 0.9831674969076231, 0.0020698263092792063, 0.9485030992971869, 0.050845682710862844, 0.999186249283906, 0.9992515586007006, 0.0006308406304297352, 0.9989675537857752, 0.3102720262290294, 0.38231013636505645, 0.30758180634843085, 0.0018283102214278679, 0.9956762370576, 0.002473596181931821, 0.9985531044923858, 0.999637562882661, 0.9993029157441846, 0.9993085214776999, 0.9995058999010178, 0.9990400436737359, 0.0009881701717841106, 0.9970318034122073, 0.0024059647765738595, 0.9991484555821292, 0.9989266002630907, 0.9989078809803642, 0.0007064412171006819, 0.0007064412171006819, 0.9752661326048914, 0.0020456552335708263, 0.022502207569279085, 0.9989884211409394, 0.9996872194848119, 0.9997850019192345, 0.9993427289368056, 0.003741194173152314, 0.014216537857978792, 0.9816893510351672, 0.9992048079842113, 0.9991454433802485, 0.9993298072184803, 0.9905474286691024, 0.003221292450956431, 0.006442584901912862, 0.9987169886564505, 0.9984920225531698, 0.9995996714695646, 0.9997662371143514, 0.9997381309733185, 0.012591919010706276, 0.9872851499331889, 0.9996242769683297, 0.00031673773034484465, 0.9992170024411277, 0.9964398812684939, 0.0028633329921508447, 0.9995310781088249, 0.0007387517207012749, 0.999246337867583, 0.19447400501290524, 0.7977230878078174, 0.007804271350843269, 0.9991496788719438, 0.9988714518136403, 0.0007173224070474975, 0.00035866120352374877, 0.028701992463324454, 0.15068546043245337, 0.8206021781402604, 0.99951711269443, 0.9995356847602701, 0.9992003591017892, 0.001183886681400224, 0.9997606021935923, 0.8636675152206073, 0.13613235084019965], \"Term\": [\"\\u0431\\u0435\\u0434\\u043d\\u044b\\u0439\", \"\\u0431\\u0438\\u043b\\u0435\\u0442\", \"\\u0431\\u043e\\u0433\", \"\\u0431\\u043e\\u043b\\u044c\", \"\\u0431\\u043e\\u043b\\u044c\\u043d\\u0438\\u0446\\u0430\", \"\\u0431\\u043e\\u043b\\u044c\\u0448\", \"\\u0431\\u043e\\u043b\\u044c\\u0448\", \"\\u0431\\u043e\\u043b\\u044c\\u0448\", \"\\u0431\\u043e\\u044f\\u0442\\u044c\\u0441\\u044f\", \"\\u0431\\u0440\\u0430\\u0442\", \"\\u0431\\u044b\\u0441\\u0442\\u0440\\u043e\", \"\\u0431\\u044b\\u0441\\u0442\\u0440\\u043e\", \"\\u0432\\u0435\\u0447\\u0435\\u0440\", \"\\u0432\\u0435\\u0447\\u0435\\u0440\", \"\\u0432\\u043c\\u0435\\u0441\\u0442\\u0435\", \"\\u0432\\u043e\\u043f\\u0440\\u043e\\u0441\", \"\\u0432\\u043e\\u043f\\u0440\\u043e\\u0441\", \"\\u0432\\u043e\\u043f\\u0440\\u043e\\u0441\", \"\\u0432\\u0440\\u0435\\u043c\\u044f\", \"\\u0432\\u0440\\u0435\\u043c\\u044f\", \"\\u0432\\u0440\\u043e\\u0434\\u0435\", \"\\u0432\\u0442\\u043e\\u0440\", \"\\u0432\\u0442\\u043e\\u0440\", \"\\u0432\\u0442\\u043e\\u0440\", \"\\u0432\\u0447\\u0435\\u0440\\u0430\", \"\\u0432\\u0447\\u0435\\u0440\\u0430\", \"\\u0432\\u0447\\u0435\\u0440\\u0430\", \"\\u0432\\u044b\\u0439\\u0442\\u0438\", \"\\u0432\\u044b\\u0439\\u0442\\u0438\", \"\\u0432\\u044b\\u0445\\u043e\\u0434\\u043d\", \"\\u0432\\u044b\\u0445\\u043e\\u0434\\u043d\", \"\\u0433\\u043b\\u0430\\u0437\", \"\\u0433\\u043b\\u0430\\u0437\", \"\\u0433\\u043e\\u0434\", \"\\u0433\\u043e\\u043b\\u043e\\u0432\\u0430\", \"\\u0433\\u043e\\u043b\\u043e\\u0432\\u0430\", \"\\u0433\\u043e\\u043b\\u043e\\u0432\\u0430\", \"\\u0433\\u043e\\u0440\\u043e\\u0434\", \"\\u0433\\u043e\\u0440\\u043e\\u0434\", \"\\u0434\\u0430\\u043b\\u0451\\u043a\\u0438\\u0439\", \"\\u0434\\u0435\\u043d\\u044c\", \"\\u0434\\u0435\\u043d\\u044c\", \"\\u0434\\u0435\\u043d\\u044c\", \"\\u0434\\u0435\\u043d\\u044c\\u0433\\u0430\", \"\\u0434\\u043e\\u0431\\u0440\\u044b\\u0439\", \"\\u0434\\u043e\\u0431\\u0440\\u044b\\u0439\", \"\\u0434\\u043e\\u043b\\u0433\\u043e\", \"\\u0434\\u043e\\u043b\\u0436\\u043d\\u044b\\u0439\", \"\\u0434\\u043e\\u043b\\u0436\\u043d\\u044b\\u0439\", \"\\u0434\\u043e\\u043c\", \"\\u0434\\u043e\\u043c\", \"\\u0434\\u043e\\u043c\", \"\\u0434\\u0440\\u0443\\u0433\", \"\\u0434\\u0443\\u0448\\u0430\", \"\\u0436\\u0430\\u043b\\u043a\\u043e\", \"\\u0436\\u0430\\u043b\\u044c\", \"\\u0436\\u0438\\u0437\\u043d\\u044c\", \"\\u0436\\u0438\\u0437\\u043d\\u044c\", \"\\u0436\\u0438\\u0437\\u043d\\u044c\", \"\\u0436\\u043e\\u043f\\u0430\", \"\\u0437\\u0430\\u0432\\u0442\\u0440\\u0430\", \"\\u0437\\u0430\\u0432\\u0442\\u0440\\u0430\", \"\\u0437\\u0430\\u0432\\u0442\\u0440\\u0430\", \"\\u0437\\u0430\\u043a\\u043e\\u043d\\u0447\\u0438\\u0442\\u044c\\u0441\\u044f\", \"\\u0437\\u0430\\u043a\\u043e\\u043d\\u0447\\u0438\\u0442\\u044c\\u0441\\u044f\", \"\\u0437\\u0430\\u043a\\u043e\\u043d\\u0447\\u0438\\u0442\\u044c\\u0441\\u044f\", \"\\u0437\\u0438\\u043c\\u0430\", \"\\u0438\\u0434\\u0442\\u0438\", \"\\u0438\\u0434\\u0442\\u0438\", \"\\u0438\\u0434\\u0442\\u0438\", \"\\u0438\\u043d\\u0442\\u0435\\u0440\\u043d\\u0435\\u0442\", \"\\u0438\\u043d\\u0442\\u0435\\u0440\\u043d\\u0435\\u0442\", \"\\u0438\\u043d\\u0442\\u0435\\u0440\\u043d\\u0435\\u0442\", \"\\u043a\\u0430\\u0436\\u0434\\u044b\\u0439\", \"\\u043a\\u0430\\u0436\\u0434\\u044b\\u0439\", \"\\u043a\\u0430\\u0437\\u0430\\u0442\\u044c\\u0441\\u044f\", \"\\u043a\\u0430\\u0437\\u0430\\u0442\\u044c\\u0441\\u044f\", \"\\u043a\\u0430\\u0437\\u0430\\u0442\\u044c\\u0441\\u044f\", \"\\u043a\\u0430\\u043d\\u0438\\u043a\\u0443\\u043b\\u044b\", \"\\u043a\\u0430\\u0442\\u043e\\u043a\", \"\\u043a\\u043b\\u0430\\u0441\\u0441\", \"\\u043a\\u043d\\u0438\\u0433\\u0430\", \"\\u043a\\u0440\\u0443\\u0442\\u043e\", \"\\u043b\\u0435\\u043d\\u044c\", \"\\u043b\\u0435\\u0447\\u044c\", \"\\u043b\\u0438\\u0431\\u043e\", \"\\u043b\\u0438\\u0448\\u044c\", \"\\u043b\\u044e\\u0431\\u0438\\u043c\\u044b\\u0439\", \"\\u043b\\u044e\\u0431\\u0438\\u043c\\u044b\\u0439\", \"\\u043b\\u044e\\u0431\\u0438\\u043c\\u044b\\u0439\", \"\\u043b\\u044e\\u0431\\u043e\\u0432\\u044c\", \"\\u043b\\u044e\\u0431\\u043e\\u0432\\u044c\", \"\\u043c\\u0430\\u043b\\u0435\\u043d\\u044c\\u043a\\u0438\\u0439\", \"\\u043c\\u0430\\u043b\\u0435\\u043d\\u044c\\u043a\\u0438\\u0439\", \"\\u043c\\u0430\\u043b\\u0435\\u043d\\u044c\\u043a\\u0438\\u0439\", \"\\u043c\\u0430\\u043b\\u043e\", \"\\u043c\\u0430\\u043c\\u0430\", \"\\u043c\\u0430\\u043c\\u0430\", \"\\u043c\\u0430\\u043c\\u0430\", \"\\u043c\\u0430\\u0448\\u0438\\u043d\\u0430\", \"\\u043c\\u0435\\u0441\\u044f\\u0446\", \"\\u043c\\u0435\\u0441\\u044f\\u0446\", \"\\u043c\\u043e\\u043c\\u0435\\u043d\\u0442\", \"\\u043c\\u043e\\u043c\\u0435\\u043d\\u0442\", \"\\u043c\\u0443\\u0437\\u044b\\u043a\\u0430\", \"\\u043c\\u0443\\u0437\\u044b\\u043a\\u0430\", \"\\u043c\\u044b\\u0441\\u043b\\u044c\", \"\\u043c\\u044b\\u0441\\u043b\\u044c\", \"\\u043c\\u044b\\u0441\\u043b\\u044c\", \"\\u043d\\u0430\\u0434\\u0435\\u044f\\u0442\\u044c\\u0441\\u044f\", \"\\u043d\\u0430\\u0434\\u0435\\u044f\\u0442\\u044c\\u0441\\u044f\", \"\\u043d\\u0430\\u0439\\u0442\\u0438\", \"\\u043d\\u0430\\u0439\\u0442\\u0438\", \"\\u043d\\u0430\\u0439\\u0442\\u0438\", \"\\u043d\\u0430\\u0441\\u0442\\u0440\\u043e\\u0435\\u043d\\u0438\\u0435\", \"\\u043d\\u0430\\u0441\\u0442\\u0440\\u043e\\u0435\\u043d\\u0438\\u0435\", \"\\u043d\\u0430\\u0441\\u0442\\u0440\\u043e\\u0435\\u043d\\u0438\\u0435\", \"\\u043d\\u0430\\u0447\\u0430\\u043b\\u043e\", \"\\u043d\\u0430\\u0447\\u0430\\u0442\\u044c\\u0441\\u044f\", \"\\u043d\\u0430\\u0447\\u0430\\u0442\\u044c\\u0441\\u044f\", \"\\u043d\\u0435\\u0434\\u0435\\u043b\\u044f\", \"\\u043d\\u0435\\u0434\\u0435\\u043b\\u044f\", \"\\u043d\\u0435\\u0434\\u0435\\u043b\\u044f\", \"\\u043d\\u0435\\u0447\\u0435\\u0433\\u043e\", \"\\u043d\\u0435\\u0447\\u0435\\u0433\\u043e\", \"\\u043d\\u0438\\u043a\\u0442\\u043e\", \"\\u043d\\u043e\\u0432\\u044b\\u0439\", \"\\u043d\\u043e\\u0432\\u044b\\u0439\", \"\\u043d\\u043e\\u0432\\u044b\\u0439\", \"\\u043d\\u043e\\u0433\\u0430\", \"\\u043d\\u043e\\u0433\\u0430\", \"\\u043d\\u043e\\u0440\\u043c\\u0430\", \"\\u043d\\u043e\\u0447\\u044c\", \"\\u043d\\u0440\\u0430\\u0432\\u0438\\u0442\\u044c\\u0441\\u044f\", \"\\u043d\\u0440\\u0430\\u0432\\u0438\\u0442\\u044c\\u0441\\u044f\", \"\\u043d\\u0440\\u0430\\u0432\\u0438\\u0442\\u044c\\u0441\\u044f\", \"\\u043d\\u0443\\u0436\\u043d\\u044b\\u0439\", \"\\u043e\\u0441\\u0442\\u0430\\u0442\\u044c\\u0441\\u044f\", \"\\u043e\\u0441\\u0442\\u0430\\u0442\\u044c\\u0441\\u044f\", \"\\u043e\\u0441\\u0442\\u0430\\u0442\\u044c\\u0441\\u044f\", \"\\u043f\\u0430\\u043f\\u0430\", \"\\u043f\\u0430\\u043f\\u0430\", \"\\u043f\\u0430\\u0440\\u0435\\u043d\\u044c\", \"\\u043f\\u0430\\u0440\\u0435\\u043d\\u044c\", \"\\u043f\\u0435\\u0440\\u0432\\u044b\\u0439\", \"\\u043f\\u0435\\u0440\\u0432\\u044b\\u0439\", \"\\u043f\\u0435\\u0440\\u0432\\u044b\\u0439\", \"\\u043f\\u0435\\u0447\\u0430\\u043b\\u044c\", \"\\u043f\\u043e\\u0433\\u043e\\u0434\\u0430\", \"\\u043f\\u043e\\u0433\\u043e\\u0434\\u0430\", \"\\u043f\\u043e\\u0434\\u0440\\u0443\\u0433\\u0430\", \"\\u043f\\u043e\\u0436\\u0430\\u043b\\u0443\\u0439\\u0441\\u0442\\u0430\", \"\\u043f\\u043e\\u043a\\u0430\", \"\\u043f\\u043e\\u043a\\u0430\", \"\\u043f\\u043e\\u043a\\u0430\", \"\\u043f\\u043e\\u043b\\u0443\\u0447\\u0430\\u0442\\u044c\\u0441\\u044f\", \"\\u043f\\u043e\\u043b\\u0443\\u0447\\u0438\\u0442\\u044c\\u0441\\u044f\", \"\\u043f\\u043e\\u043b\\u0443\\u0447\\u0438\\u0442\\u044c\\u0441\\u044f\", \"\\u043f\\u043e\\u043d\\u0435\\u0434\\u0435\\u043b\\u044c\\u043d\\u0438\\u043a\", \"\\u043f\\u043e\\u0441\\u043b\\u0435\\u0434\\u043d\\u0438\\u0439\", \"\\u043f\\u043e\\u0441\\u043b\\u0435\\u0434\\u043d\\u0438\\u0439\", \"\\u043f\\u043e\\u0441\\u043b\\u0435\\u0434\\u043d\\u0438\\u0439\", \"\\u043f\\u043e\\u0445\\u043e\\u0434\", \"\\u043f\\u0440\\u0430\\u0432\\u0434\\u0430\", \"\\u043f\\u0440\\u0438\\u0432\\u0435\\u0442\", \"\\u043f\\u0440\\u0438\\u0439\\u0442\\u0438\\u0441\\u044c\", \"\\u043f\\u0440\\u0438\\u0439\\u0442\\u0438\\u0441\\u044c\", \"\\u043f\\u0440\\u043e\\u0431\\u043b\\u0435\\u043c\\u0430\", \"\\u043f\\u0440\\u043e\\u0441\\u043d\\u0443\\u0442\\u044c\\u0441\\u044f\", \"\\u043f\\u0440\\u043e\\u0441\\u043d\\u0443\\u0442\\u044c\\u0441\\u044f\", \"\\u043f\\u0440\\u043e\\u0441\\u043d\\u0443\\u0442\\u044c\\u0441\\u044f\", \"\\u043f\\u0440\\u044f\\u043c\", \"\\u043f\\u0440\\u044f\\u043c\", \"\\u043f\\u0440\\u044f\\u043c\", \"\\u0440\\u0430\\u0431\\u043e\\u0442\\u0430\", \"\\u0440\\u0430\\u0431\\u043e\\u0442\\u0430\", \"\\u0440\\u0430\\u0431\\u043e\\u0442\\u0430\", \"\\u0440\\u0430\\u043d\\u043d\\u0438\\u0439\", \"\\u0440\\u0430\\u043d\\u043d\\u0438\\u0439\", \"\\u0440\\u0430\\u043d\\u043d\\u0438\\u0439\", \"\\u0440\\u0435\\u0431\\u0451\\u043d\\u043e\\u043a\", \"\\u0440\\u0435\\u0431\\u0451\\u043d\\u043e\\u043a\", \"\\u0440\\u043e\\u0434\\u043d\\u044b\\u0439\", \"\\u0440\\u0443\\u043a\\u0430\", \"\\u0440\\u0443\\u043a\\u0430\", \"\\u0440\\u044f\\u0434\\u043e\\u043c\", \"\\u0441\\u0430\\u043c\\u044b\\u0439\", \"\\u0441\\u0430\\u043c\\u044b\\u0439\", \"\\u0441\\u0430\\u043c\\u044b\\u0439\", \"\\u0441\\u0435\\u0433\\u043e\\u0434\\u043d\\u044f\", \"\\u0441\\u0435\\u0433\\u043e\\u0434\\u043d\\u044f\", \"\\u0441\\u0435\\u0433\\u043e\\u0434\\u043d\\u044f\", \"\\u0441\\u0435\\u0437\\u043e\\u043d\", \"\\u0441\\u0435\\u0440\\u0434\\u0446\\u0435\", \"\\u0441\\u0435\\u0440\\u0438\\u0430\\u043b\", \"\\u0441\\u0435\\u0440\\u0438\\u044f\", \"\\u0441\\u0435\\u0441\\u0441\\u0438\\u044f\", \"\\u0441\\u043a\\u043e\\u043b\\u044c\\u043a\\u043e\", \"\\u0441\\u043a\\u043e\\u043b\\u044c\\u043a\\u043e\", \"\\u0441\\u043a\\u043e\\u0440\\u043e\", \"\\u0441\\u043a\\u043e\\u0440\\u043e\", \"\\u0441\\u043b\\u0435\\u0437\\u0430\", \"\\u0441\\u043b\\u0438\\u0448\\u043a\\u043e\\u043c\", \"\\u0441\\u043b\\u043e\\u0432\\u043e\", \"\\u0441\\u043b\\u043e\\u0432\\u043e\", \"\\u0441\\u043b\\u043e\\u0432\\u043e\", \"\\u0441\\u043d\\u043e\\u0432\\u0430\", \"\\u0441\\u043d\\u043e\\u0432\\u0430\", \"\\u0441\\u043d\\u043e\\u0432\\u0430\", \"\\u0441\\u043e\\u0436\\u0430\\u043b\\u0435\\u043d\\u0438\\u0435\", \"\\u0441\\u043e\\u0441\\u043a\\u0443\\u0447\\u0438\\u0442\\u044c\\u0441\\u044f\", \"\\u0441\\u043f\\u0430\\u0441\\u0438\\u0431\\u043e\", \"\\u0441\\u0440\\u0430\\u0437\\u0443\", \"\\u0441\\u0442\\u043e\\u043b\\u044c\\u043a\\u043e\", \"\\u0441\\u0442\\u043e\\u043b\\u044c\\u043a\\u043e\", \"\\u0441\\u0442\\u043e\\u043b\\u044c\\u043a\\u043e\", \"\\u0442\\u0430\\u043a\\u0438\", \"\\u0442\\u0432\\u0438\\u0442\", \"\\u0442\\u0432\\u0438\\u0442\\u0442\\u0435\\u0440\", \"\\u0442\\u0435\\u043b\\u0435\\u0444\\u043e\\u043d\", \"\\u0442\\u0435\\u043b\\u0435\\u0444\\u043e\\u043d\", \"\\u0442\\u0435\\u043b\\u0435\\u0444\\u043e\\u043d\", \"\\u0442\\u0435\\u043c\\u043f\\u0435\\u0440\\u0430\\u0442\\u0443\\u0440\\u0430\", \"\\u0442\\u0443\\u043f\", \"\\u0443\\u0436\\u0430\\u0441\", \"\\u0443\\u0436\\u0430\\u0441\\u043d\\u044b\\u0439\", \"\\u0443\\u043b\\u0438\\u0446\\u0430\", \"\\u0443\\u0440\\u043e\\u043a\", \"\\u0443\\u0440\\u043e\\u043a\", \"\\u0443\\u0442\\u0440\\u043e\", \"\\u0443\\u0442\\u0440\\u043e\", \"\\u0443\\u0442\\u0440\\u043e\\u043c\", \"\\u0443\\u0447\\u0438\\u0442\\u044c\\u0441\\u044f\", \"\\u0443\\u0447\\u0438\\u0442\\u044c\\u0441\\u044f\", \"\\u0443\\u0447\\u0451\\u0431\\u0430\", \"\\u0443\\u0447\\u0451\\u0431\\u0430\", \"\\u0444\\u043e\\u0442\\u043a\\u0430\", \"\\u0445\\u043e\\u0440\\u043e\\u0448\\u0438\\u0439\", \"\\u0445\\u043e\\u0440\\u043e\\u0448\\u0438\\u0439\", \"\\u0445\\u043e\\u0440\\u043e\\u0448\\u0438\\u0439\", \"\\u0446\\u0435\\u043b\\u044b\\u0439\", \"\\u0447\\u0430\\u0441\", \"\\u0447\\u0430\\u0441\", \"\\u0447\\u0430\\u0441\", \"\\u0447\\u0435\\u043b\\u043e\\u0432\\u0435\\u043a\", \"\\u0447\\u0435\\u043b\\u043e\\u0432\\u0435\\u043a\", \"\\u0447\\u0435\\u043b\\u043e\\u0432\\u0435\\u043a\", \"\\u0447\\u0435\\u0440\\u0442\\u0430\", \"\\u0447\\u0443\\u0432\\u0441\\u0442\\u0432\\u043e\", \"\\u0447\\u0451\\u0440\\u043d\\u044b\\u0439\", \"\\u0447\\u0451\\u0440\\u043d\\u044b\\u0439\", \"\\u0448\\u043a\\u043e\\u043b\\u0430\", \"\\u044d\\u043a\\u0437\\u0430\\u043c\\u0435\\u043d\", \"\\u044d\\u043a\\u0437\\u0430\\u043c\\u0435\\u043d\"]}, \"R\": 30, \"lambda.step\": 0.01, \"plot.opts\": {\"xlab\": \"PC1\", \"ylab\": \"PC2\"}, \"topic.order\": [3, 1, 2]};\n",
       "\n",
       "function LDAvis_load_lib(url, callback){\n",
       "  var s = document.createElement('script');\n",
       "  s.src = url;\n",
       "  s.async = true;\n",
       "  s.onreadystatechange = s.onload = callback;\n",
       "  s.onerror = function(){console.warn(\"failed to load library \" + url);};\n",
       "  document.getElementsByTagName(\"head\")[0].appendChild(s);\n",
       "}\n",
       "\n",
       "if(typeof(LDAvis) !== \"undefined\"){\n",
       "   // already loaded: just create the visualization\n",
       "   !function(LDAvis){\n",
       "       new LDAvis(\"#\" + \"ldavis_el1815219876395647688106271533\", ldavis_el1815219876395647688106271533_data);\n",
       "   }(LDAvis);\n",
       "}else if(typeof define === \"function\" && define.amd){\n",
       "   // require.js is available: use it to load d3/LDAvis\n",
       "   require.config({paths: {d3: \"https://d3js.org/d3.v5\"}});\n",
       "   require([\"d3\"], function(d3){\n",
       "      window.d3 = d3;\n",
       "      LDAvis_load_lib(\"https://cdn.jsdelivr.net/gh/bmabey/pyLDAvis@3.3.1/pyLDAvis/js/ldavis.v3.0.0.js\", function(){\n",
       "        new LDAvis(\"#\" + \"ldavis_el1815219876395647688106271533\", ldavis_el1815219876395647688106271533_data);\n",
       "      });\n",
       "    });\n",
       "}else{\n",
       "    // require.js not available: dynamically load d3 & LDAvis\n",
       "    LDAvis_load_lib(\"https://d3js.org/d3.v5.js\", function(){\n",
       "         LDAvis_load_lib(\"https://cdn.jsdelivr.net/gh/bmabey/pyLDAvis@3.3.1/pyLDAvis/js/ldavis.v3.0.0.js\", function(){\n",
       "                 new LDAvis(\"#\" + \"ldavis_el1815219876395647688106271533\", ldavis_el1815219876395647688106271533_data);\n",
       "            })\n",
       "         });\n",
       "}\n",
       "</script>"
      ],
      "text/plain": [
       "<IPython.core.display.HTML object>"
      ]
     },
     "execution_count": 29,
     "metadata": {},
     "output_type": "execute_result"
    }
   ],
   "source": [
    "# Визуализация\n",
    "v_data = gensimvis.prepare(lda, corpus, dictionary)\n",
    "pyLDAvis.display(v_data)"
   ]
  },
  {
   "cell_type": "markdown",
   "id": "925d6a83",
   "metadata": {},
   "source": [
    "Результаты:"
   ]
  },
  {
   "cell_type": "markdown",
   "id": "f6f7a208",
   "metadata": {},
   "source": [
    "У нас получились три частые темы:\n",
    "1) Школьная жизнь\n",
    "2) Обсуждение повседневной жизни\n",
    "3) Как будто объединяет школьную тему и повседневность. С третьей темой у меня трудности, не моугу ее классифицировать"
   ]
  }
 ],
 "metadata": {
  "kernelspec": {
   "display_name": "Python 3",
   "language": "python",
   "name": "python3"
  },
  "language_info": {
   "codemirror_mode": {
    "name": "ipython",
    "version": 3
   },
   "file_extension": ".py",
   "mimetype": "text/x-python",
   "name": "python",
   "nbconvert_exporter": "python",
   "pygments_lexer": "ipython3",
   "version": "3.8.8"
  }
 },
 "nbformat": 4,
 "nbformat_minor": 5
}
