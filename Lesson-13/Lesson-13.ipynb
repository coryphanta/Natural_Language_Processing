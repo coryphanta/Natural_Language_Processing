{
 "cells": [
  {
   "cell_type": "markdown",
   "id": "d4e5ca20",
   "metadata": {},
   "source": [
    "### Задание\n",
    "\n",
    "Взять тот же датасет, который был на вебинаре и предобученную модель для задачи суммаризации\n",
    "1. Проверить насколько хорошо она суммаризирует\n",
    "2.(дополнительно) Сделать генерацию заголовков для статьи (обучить модель для генерации заголовков)"
   ]
  },
  {
   "cell_type": "code",
   "execution_count": 18,
   "id": "64d797c4",
   "metadata": {},
   "outputs": [
    {
     "name": "stdout",
     "output_type": "stream",
     "text": [
      "Collecting rouge\n",
      "  Downloading rouge-1.0.1-py3-none-any.whl (13 kB)\n",
      "Requirement already satisfied: six in c:\\users\\uliana\\anaconda3\\lib\\site-packages (from rouge) (1.15.0)\n",
      "Installing collected packages: rouge\n",
      "Successfully installed rouge-1.0.1\n"
     ]
    }
   ],
   "source": [
    "!pip install rouge"
   ]
  },
  {
   "cell_type": "code",
   "execution_count": 19,
   "id": "7e69cab8",
   "metadata": {},
   "outputs": [],
   "source": [
    "import pandas as pd\n",
    "import razdel\n",
    "\n",
    "from transformers import AutoTokenizer, MBartForConditionalGeneration\n",
    "from nltk.translate.bleu_score import corpus_bleu\n",
    "from rouge import Rouge"
   ]
  },
  {
   "cell_type": "code",
   "execution_count": 2,
   "id": "0c4e33e0",
   "metadata": {},
   "outputs": [
    {
     "name": "stderr",
     "output_type": "stream",
     "text": [
      "No config specified, defaulting to: gazeta/default\n",
      "Found cached dataset gazeta (C:/Users/Uliana/.cache/huggingface/datasets/IlyaGusev___gazeta/default/1.0.0/ef9349c3c0f3112ca4036520d76c4bc1b8a79d30bc29643c6cae5a094d44e457)\n"
     ]
    },
    {
     "data": {
      "application/vnd.jupyter.widget-view+json": {
       "model_id": "b87490efe894470fb093fc8be54a0832",
       "version_major": 2,
       "version_minor": 0
      },
      "text/plain": [
       "  0%|          | 0/3 [00:00<?, ?it/s]"
      ]
     },
     "metadata": {},
     "output_type": "display_data"
    }
   ],
   "source": [
    "from datasets import load_dataset\n",
    "\n",
    "dataset = load_dataset('IlyaGusev/gazeta', revision=\"v1.0\")[\"train\"]"
   ]
  },
  {
   "cell_type": "code",
   "execution_count": 4,
   "id": "d98fbf93",
   "metadata": {},
   "outputs": [],
   "source": [
    "df = pd.DataFrame(dataset)"
   ]
  },
  {
   "cell_type": "code",
   "execution_count": 5,
   "id": "7ea25f53",
   "metadata": {},
   "outputs": [],
   "source": [
    "data = df[['text', 'summary']]"
   ]
  },
  {
   "cell_type": "code",
   "execution_count": 6,
   "id": "ac43c62b",
   "metadata": {},
   "outputs": [],
   "source": [
    "data = data.sample(100)"
   ]
  },
  {
   "cell_type": "code",
   "execution_count": 8,
   "id": "2de0991c",
   "metadata": {},
   "outputs": [
    {
     "data": {
      "application/vnd.jupyter.widget-view+json": {
       "model_id": "7c0d192f45614e559d094341b5236e56",
       "version_major": 2,
       "version_minor": 0
      },
      "text/plain": [
       "Downloading:   0%|          | 0.00/287 [00:00<?, ?B/s]"
      ]
     },
     "metadata": {},
     "output_type": "display_data"
    },
    {
     "data": {
      "application/vnd.jupyter.widget-view+json": {
       "model_id": "dde11e5c844f40ceb3fa41d75157bf4e",
       "version_major": 2,
       "version_minor": 0
      },
      "text/plain": [
       "Downloading:   0%|          | 0.00/1.08k [00:00<?, ?B/s]"
      ]
     },
     "metadata": {},
     "output_type": "display_data"
    },
    {
     "data": {
      "application/vnd.jupyter.widget-view+json": {
       "model_id": "d0f3fca6a1c141e7949ace84756d0854",
       "version_major": 2,
       "version_minor": 0
      },
      "text/plain": [
       "Downloading:   0%|          | 0.00/5.07M [00:00<?, ?B/s]"
      ]
     },
     "metadata": {},
     "output_type": "display_data"
    },
    {
     "data": {
      "application/vnd.jupyter.widget-view+json": {
       "model_id": "ab4ae9e22f0e4c51bb5fe854b4a3155e",
       "version_major": 2,
       "version_minor": 0
      },
      "text/plain": [
       "Downloading:   0%|          | 0.00/406 [00:00<?, ?B/s]"
      ]
     },
     "metadata": {},
     "output_type": "display_data"
    },
    {
     "data": {
      "application/vnd.jupyter.widget-view+json": {
       "model_id": "e947b97e146c439c8c171245b1c39355",
       "version_major": 2,
       "version_minor": 0
      },
      "text/plain": [
       "Downloading:   0%|          | 0.00/3.47G [00:00<?, ?B/s]"
      ]
     },
     "metadata": {},
     "output_type": "display_data"
    }
   ],
   "source": [
    "model_name = \"IlyaGusev/mbart_ru_sum_gazeta\"\n",
    "\n",
    "tokenizer = AutoTokenizer.from_pretrained(model_name)\n",
    "model = MBartForConditionalGeneration.from_pretrained(model_name)"
   ]
  },
  {
   "cell_type": "code",
   "execution_count": 9,
   "id": "09697102",
   "metadata": {},
   "outputs": [
    {
     "name": "stdout",
     "output_type": "stream",
     "text": [
      "<class 'transformers.models.mbart.tokenization_mbart_fast.MBartTokenizerFast'> <class 'transformers.models.mbart.modeling_mbart.MBartForConditionalGeneration'>\n"
     ]
    }
   ],
   "source": [
    "print(type(tokenizer), type(model))"
   ]
  },
  {
   "cell_type": "code",
   "execution_count": 10,
   "id": "99cf0365",
   "metadata": {},
   "outputs": [
    {
     "data": {
      "text/plain": [
       "'Московский арбитражный суд в четверг удовлетворил иск Росимущества по истребованию 16,387 га земли на западе Москвы у «Территориальной дирекции Сетуньская», акционером которой является Елена Батурина. Жена бывшего мэра Москвы намерена оспорить решение суда. «Компания владеет землями на абсолютно законном основании. В ближайшее время мы подадим апелляцию на это судебное решение», — заявил представитель предпринимательницы Геннадий Теребков. По его мнению, Росимущество так и не предоставило в суде доказательств реального существования истребуемых им земельных участков. «Вынесенное судом решение удивляет, но, тем не менее, до получения мотивировочной части давать конкретные комментарии по этому поводу считаем преждевременным», — сказал он. В Росимуществе не комментируют дальнейшие действия ведомства и планы по распоряжению земельными участками. Речь идет о трех участках (около 37 га) на пересечении Староволынской и Минской улиц, которые были переданы ТД «Сетуньская» в 2003 году. Тогда Москомрегистрация зарегистрировала эти участки на две компании – ООО «Территориальная дирекция «Сетуньская» и ООО «Территориальная дирекция «Волынская». Ранее в Кремле утверждали, что делать этого чиновники не имели права, поскольку, согласно указу президента от 22 ноября 1993 года «О некоторых вопросах размещения и обслуживания иностранных представительств в г. Москве», эти земли были зарезервированы под дипмиссии 12 стран. Участки должны были получить посольства Китая, Индии, Кубы, Вьетнама, Гвинеи, Афганистана, Ганы, Никарагуа, Пакистана, Таиланда, Мозамбика и КНДР. Решение было оспорено МИДом и Росимуществом , но земли в их ведение переданы не были. В августе 2010 года, за полтора месяца до отставки Лужкова, генпрокурор Юрий Чайка в письме главе государства пожаловался на бездействие столичных властей «в вопросе обеспечения земельными участками представительств иностранных государств». В июне прошлого года Росимущество направило просьбу передать оспариваемые участки в федеральную собственность. Но затем московский арбитражный суд отказал ведомству в иске. Ответчикам удалось доказать, что Росимущество пропустило трехгодичный срок исковой давности, который, по мнению компании, начался 13 июля 2004 года. Позже девятый арбитражный апелляционный суд также встал на сторону ТД «Сетуньская», но в феврале текущего года Высший арбитражный суд отменил решение нижестоящих судов и направил дело на повторное рассмотрение в арбитражный суд Москвы. По словам старшего юриста юридической фирмы Lidings Сергея Патракеева, возможность изъятия ранее приватизированных участков возможна в редких случаях. «В законную силу решение суда еще не вступило, и у ТД «Сетуньская» есть шансы его обжаловать. «Сетуньская» будет идти до конца», — считает эксперт. «На основании гражданско-правовых норм отменить передачу земли в собственность структур Батуриной суд не имел права. Если бы удалось доказать факт коррупционной сделки, завести уголовное дело и на основании этого изменить срок давности дела - это было бы и эффективное, и законное решение», — говорит генеральный директор ГК «Овентал» Александра Славянская. Тем не менее, она считает, что Росимуществу удастся получить землю, при условии, что ведомство в очередной раз будет действовать в духе «правового нигилизма». «Неоспоримым аргументом Росимущества стало то, что земельные участки были зарезервированы государством под строительство посольств, поэтому эти земли не могли быть отданы частным компаниям», — объясняет партнер юридической компании «Нерр» Илья Рачков. Скорее всего, спорная земля достанется ведомству, считает эксперт. В этом случае правильным решением юристов Батуриной будет требование от государства компенсации за изъятые земли, исходя из их рыночной стоимости, считает Рачков.'"
      ]
     },
     "execution_count": 10,
     "metadata": {},
     "output_type": "execute_result"
    }
   ],
   "source": [
    "article_text = data['text'].iloc[1]\n",
    "article_text"
   ]
  },
  {
   "cell_type": "code",
   "execution_count": 11,
   "id": "ea5a7e07",
   "metadata": {},
   "outputs": [
    {
     "name": "stderr",
     "output_type": "stream",
     "text": [
      "C:\\Users\\Uliana\\anaconda3\\lib\\site-packages\\transformers\\tokenization_utils_base.py:3668: FutureWarning: \n",
      "`prepare_seq2seq_batch` is deprecated and will be removed in version 5 of HuggingFace Transformers. Use the regular\n",
      "`__call__` method to prepare your inputs and targets.\n",
      "\n",
      "Here is a short example:\n",
      "\n",
      "model_inputs = tokenizer(src_texts, text_target=tgt_texts, ...)\n",
      "\n",
      "If you either need to use different keyword arguments for the source and target texts, you should do two calls like\n",
      "this:\n",
      "\n",
      "model_inputs = tokenizer(src_texts, ...)\n",
      "labels = tokenizer(text_target=tgt_texts, ...)\n",
      "model_inputs[\"labels\"] = labels[\"input_ids\"]\n",
      "\n",
      "See the documentation of your specific tokenizer for more details on the specific arguments to the tokenizer of choice.\n",
      "For a more complete example, see the implementation of `prepare_seq2seq_batch`.\n",
      "\n",
      "  warnings.warn(formatted_warning, FutureWarning)\n"
     ]
    },
    {
     "name": "stdout",
     "output_type": "stream",
     "text": [
      "WARNING:tensorflow:Please fix your imports. Module tensorflow.python.training.tracking.base has been moved to tensorflow.python.trackable.base. The old module will be deleted in version 2.11.\n",
      "WARNING:tensorflow:Please fix your imports. Module tensorflow.python.training.checkpoint_management has been moved to tensorflow.python.checkpoint.checkpoint_management. The old module will be deleted in version 2.9.\n",
      "WARNING:tensorflow:Please fix your imports. Module tensorflow.python.training.tracking.resource has been moved to tensorflow.python.trackable.resource. The old module will be deleted in version 2.11.\n",
      "WARNING:tensorflow:Please fix your imports. Module tensorflow.python.training.tracking.graph_view has been moved to tensorflow.python.checkpoint.graph_view. The old module will be deleted in version 2.11.\n",
      "WARNING:tensorflow:Please fix your imports. Module tensorflow.python.training.tracking.python_state has been moved to tensorflow.python.trackable.python_state. The old module will be deleted in version 2.11.\n",
      "WARNING:tensorflow:Please fix your imports. Module tensorflow.python.training.tracking.util has been moved to tensorflow.python.checkpoint.checkpoint. The old module will be deleted in version 2.11.\n",
      "WARNING:tensorflow:Please fix your imports. Module tensorflow.python.training.saving.functional_saver has been moved to tensorflow.python.checkpoint.functional_saver. The old module will be deleted in version 2.11.\n",
      "WARNING:tensorflow:Please fix your imports. Module tensorflow.python.training.saving.checkpoint_options has been moved to tensorflow.python.checkpoint.checkpoint_options. The old module will be deleted in version 2.11.\n"
     ]
    }
   ],
   "source": [
    "input_ids = tokenizer.prepare_seq2seq_batch(\n",
    "    [article_text],\n",
    "    src_lang=\"ru_XX\", \n",
    "    return_tensors=\"pt\",\n",
    "    padding=\"max_length\",\n",
    "    truncation=True,\n",
    "    max_length=600\n",
    ")[\"input_ids\"]\n",
    "\n",
    "output_ids = model.generate(\n",
    "    input_ids=input_ids,\n",
    "    max_length=180,\n",
    "    no_repeat_ngram_size=3,\n",
    "    num_beams=5,\n",
    "    top_k=0\n",
    ")[0]\n",
    "\n",
    "summary = tokenizer.decode(output_ids, skip_special_tokens=True, clean_up_tokenization_spaces=False)"
   ]
  },
  {
   "cell_type": "code",
   "execution_count": 12,
   "id": "87e8888e",
   "metadata": {},
   "outputs": [
    {
     "name": "stdout",
     "output_type": "stream",
     "text": [
      "original: \n",
      " Арбитражный суд Москвы удовлетворил иск Росимущества об изъятии 16 га столичной земли, принадлежащей супруге экс-мэра Москвы Елене Батуриной. Речь идет об участках, на которых планировалось построить дипломатические миссии 12 стран. Жена бывшего мэра намерена оспорить решение суда. Эксперты считают, что ее шансы минимальны. \n",
      "\n",
      "predict model: \n",
      " Московский арбитражный суд удовлетворил иск Росимущества по истребованию 16,387 га земли на западе Москвы у «Территориальной дирекции Сетуньская», акционером которой является Елена Батурина. Жена бывшего мэра Москвы намерена оспорить решение суда.\n"
     ]
    }
   ],
   "source": [
    "print('original: \\n', data['summary'].iloc[1], '\\n')\n",
    "print('predict by model: \\n', summary)"
   ]
  },
  {
   "cell_type": "markdown",
   "id": "1202d1ff",
   "metadata": {},
   "source": [
    "Модель прересказала достаточно хорошо, смысл уложен в более компактный текст"
   ]
  },
  {
   "cell_type": "code",
   "execution_count": 14,
   "id": "86dd1f82",
   "metadata": {},
   "outputs": [],
   "source": [
    "def calc_scores(references, predictions, metric=\"all\"):\n",
    "    print(\"Count:\", len(predictions))\n",
    "    print(\"Ref:\", references[-1])\n",
    "    print(\"Hyp:\", predictions[-1])\n",
    "\n",
    "    if metric in (\"bleu\", \"all\"):\n",
    "        print(\"BLEU: \", corpus_bleu([[r] for r in references], predictions))\n",
    "    if metric in (\"rouge\", \"all\"):\n",
    "        rouge = Rouge()\n",
    "        scores = rouge.get_scores(predictions, references, avg=True)\n",
    "        print(\"ROUGE: \", scores)"
   ]
  },
  {
   "cell_type": "code",
   "execution_count": 15,
   "id": "88bbcc0b",
   "metadata": {},
   "outputs": [],
   "source": [
    "record = data.iloc[1]"
   ]
  },
  {
   "cell_type": "code",
   "execution_count": 20,
   "id": "990e4a18",
   "metadata": {},
   "outputs": [
    {
     "name": "stdout",
     "output_type": "stream",
     "text": [
      "Count: 2\n",
      "Ref: Российского посла в Судане Миргаяса Ширинского обнаружили с признаками острого сердечного приступа. Соболезнования в связи со смертью посла выразил директор Службы внешней разведки Сергей Нарышкин. Он отметил, что его хорошо знали как опытного дипломата, прекрасного специалиста, надежного товарища. Тем не менее правоохранительные органы Судана не исключали версию об отравлении российского посла.\n",
      "Hyp: причиной смерти посла россии в судане миргаяса ширинского стал сердечный приступ, сообщили в мид россии. накануне, 23 августа, ширинского обнаружили мертвым в своей резиденции в хартуме. версия об отравлении российского дипломата не подтвердилась.\n",
      "BLEU:  0.3318820893876461\n",
      "ROUGE:  {'rouge-1': {'r': 0.14893617021276595, 'p': 0.25, 'f': 0.18666666198755566}, 'rouge-2': {'r': 0.04, 'p': 0.0625, 'f': 0.04878048304580653}, 'rouge-l': {'r': 0.1276595744680851, 'p': 0.21428571428571427, 'f': 0.15999999532088902}}\n"
     ]
    }
   ],
   "source": [
    "def calc_lead_n_score(records, n=3, lower=True, nrows=10):\n",
    "    references = []\n",
    "    predictions = []\n",
    "\n",
    "    for i, record in enumerate(records):\n",
    "        if i >= nrows:\n",
    "            break\n",
    "\n",
    "        input_ids = tokenizer.prepare_seq2seq_batch(\n",
    "            [data['text'].iloc[47]],\n",
    "            src_lang=\"ru_XX\", \n",
    "            return_tensors=\"pt\",\n",
    "            padding=\"max_length\",\n",
    "            truncation=True,\n",
    "            max_length=600\n",
    "        )[\"input_ids\"]\n",
    "\n",
    "        output_ids = model.generate(\n",
    "            input_ids=input_ids,\n",
    "            max_length=162,\n",
    "            no_repeat_ngram_size=3,\n",
    "            num_beams=5,\n",
    "            top_k=0\n",
    "        )[0]\n",
    "\n",
    "        summary = tokenizer.decode(output_ids, skip_special_tokens=True, clean_up_tokenization_spaces=False)\n",
    "\n",
    "        references.append(summary)\n",
    "\n",
    "        text = data['summary'].iloc[47]\n",
    "        text = text if not lower else text.lower()\n",
    "        sentences = [sentence.text for sentence in razdel.sentenize(text)]\n",
    "        prediction = \" \".join(sentences[:n])\n",
    "        predictions.append(prediction)\n",
    "\n",
    "    calc_scores(references, predictions)\n",
    "\n",
    "calc_lead_n_score(data, n=1)"
   ]
  },
  {
   "cell_type": "markdown",
   "id": "4533be35",
   "metadata": {},
   "source": [
    "Вывод: Смысл модель уловила хорошо и даже попробовала предсказать будущее (версия об отравлении российского дипломата не подтвердилась.)"
   ]
  }
 ],
 "metadata": {
  "kernelspec": {
   "display_name": "Python 3",
   "language": "python",
   "name": "python3"
  },
  "language_info": {
   "codemirror_mode": {
    "name": "ipython",
    "version": 3
   },
   "file_extension": ".py",
   "mimetype": "text/x-python",
   "name": "python",
   "nbconvert_exporter": "python",
   "pygments_lexer": "ipython3",
   "version": "3.8.8"
  }
 },
 "nbformat": 4,
 "nbformat_minor": 5
}
