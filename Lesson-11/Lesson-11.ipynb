{
 "cells": [
  {
   "cell_type": "markdown",
   "id": "af4c886d",
   "metadata": {},
   "source": [
    "### Задание\n",
    "1. Взять предобученную трансформерную архитектуру и решить задачу перевода (для тогоже корпуса что вы выбрали из предыдущего дз)\n",
    "2. скачиваем готовый новостной датасет\n",
    "скачиваем из\n",
    "https://github.com/natasha/corus/blob/master/README.md\n",
    "любой новостной датасет\n",
    "\n",
    "    реализовать метод поиска ближайших статей\n",
    "    (на вход метода должен приходить запрос (какой-то вопрос) и количество вариантов вывода к примеру топ 5-ть или 3-ри, ваш метод должен возвращать топ-k ближайших статей к этому запросу)\n",
    "    визуально оценить качество"
   ]
  },
  {
   "cell_type": "code",
   "execution_count": 2,
   "id": "ebb4a4d0",
   "metadata": {},
   "outputs": [
    {
     "name": "stdout",
     "output_type": "stream",
     "text": [
      "Requirement already satisfied: transformers in c:\\users\\uliana\\anaconda3\\lib\\site-packages (4.22.1)\n",
      "Requirement already satisfied: huggingface-hub<1.0,>=0.9.0 in c:\\users\\uliana\\anaconda3\\lib\\site-packages (from transformers) (0.9.1)\n",
      "Requirement already satisfied: numpy>=1.17 in c:\\users\\uliana\\anaconda3\\lib\\site-packages (from transformers) (1.22.4)\n",
      "Requirement already satisfied: requests in c:\\users\\uliana\\anaconda3\\lib\\site-packages (from transformers) (2.25.1)\n",
      "Requirement already satisfied: tqdm>=4.27 in c:\\users\\uliana\\anaconda3\\lib\\site-packages (from transformers) (4.59.0)\n",
      "Requirement already satisfied: filelock in c:\\users\\uliana\\anaconda3\\lib\\site-packages (from transformers) (3.0.12)\n",
      "Requirement already satisfied: regex!=2019.12.17 in c:\\users\\uliana\\anaconda3\\lib\\site-packages (from transformers) (2022.1.18)\n",
      "Requirement already satisfied: pyyaml>=5.1 in c:\\users\\uliana\\anaconda3\\lib\\site-packages (from transformers) (5.4.1)\n",
      "Requirement already satisfied: tokenizers!=0.11.3,<0.13,>=0.11.1 in c:\\users\\uliana\\anaconda3\\lib\\site-packages (from transformers) (0.12.1)\n",
      "Requirement already satisfied: packaging>=20.0 in c:\\users\\uliana\\anaconda3\\lib\\site-packages (from transformers) (20.9)\n",
      "Requirement already satisfied: typing-extensions>=3.7.4.3 in c:\\users\\uliana\\anaconda3\\lib\\site-packages (from huggingface-hub<1.0,>=0.9.0->transformers) (3.7.4.3)\n",
      "Requirement already satisfied: pyparsing>=2.0.2 in c:\\users\\uliana\\anaconda3\\lib\\site-packages (from packaging>=20.0->transformers) (2.4.7)\n",
      "Requirement already satisfied: urllib3<1.27,>=1.21.1 in c:\\users\\uliana\\anaconda3\\lib\\site-packages (from requests->transformers) (1.26.4)\n",
      "Requirement already satisfied: idna<3,>=2.5 in c:\\users\\uliana\\anaconda3\\lib\\site-packages (from requests->transformers) (2.10)\n",
      "Requirement already satisfied: certifi>=2017.4.17 in c:\\users\\uliana\\anaconda3\\lib\\site-packages (from requests->transformers) (2020.12.5)\n",
      "Requirement already satisfied: chardet<5,>=3.0.2 in c:\\users\\uliana\\anaconda3\\lib\\site-packages (from requests->transformers) (4.0.0)\n"
     ]
    }
   ],
   "source": [
    "!pip install transformers"
   ]
  },
  {
   "cell_type": "code",
   "execution_count": 10,
   "id": "e0bfb180",
   "metadata": {},
   "outputs": [
    {
     "name": "stdout",
     "output_type": "stream",
     "text": [
      "Collecting sacremoses\n",
      "  Downloading sacremoses-0.0.53.tar.gz (880 kB)\n",
      "     -------------------------------------- 880.6/880.6 kB 3.1 MB/s eta 0:00:00\n",
      "  Preparing metadata (setup.py): started\n",
      "  Preparing metadata (setup.py): finished with status 'done'\n",
      "Requirement already satisfied: regex in c:\\users\\uliana\\anaconda3\\lib\\site-packages (from sacremoses) (2022.1.18)\n",
      "Requirement already satisfied: six in c:\\users\\uliana\\anaconda3\\lib\\site-packages (from sacremoses) (1.15.0)\n",
      "Requirement already satisfied: click in c:\\users\\uliana\\anaconda3\\lib\\site-packages (from sacremoses) (7.1.2)\n",
      "Requirement already satisfied: joblib in c:\\users\\uliana\\anaconda3\\lib\\site-packages (from sacremoses) (1.0.1)\n",
      "Requirement already satisfied: tqdm in c:\\users\\uliana\\anaconda3\\lib\\site-packages (from sacremoses) (4.59.0)\n",
      "Building wheels for collected packages: sacremoses\n",
      "  Building wheel for sacremoses (setup.py): started\n",
      "  Building wheel for sacremoses (setup.py): finished with status 'done'\n",
      "  Created wheel for sacremoses: filename=sacremoses-0.0.53-py3-none-any.whl size=895241 sha256=0291cded8a05e25b766a25a00a4ef0eea93b962eebb14bfac98d86f4c6f91148\n",
      "  Stored in directory: c:\\users\\uliana\\appdata\\local\\pip\\cache\\wheels\\82\\ab\\9b\\c15899bf659ba74f623ac776e861cf2eb8608c1825ddec66a4\n",
      "Successfully built sacremoses\n",
      "Installing collected packages: sacremoses\n",
      "Successfully installed sacremoses-0.0.53\n"
     ]
    }
   ],
   "source": [
    "!pip install sacremoses"
   ]
  },
  {
   "cell_type": "code",
   "execution_count": 24,
   "id": "6f722d5e",
   "metadata": {},
   "outputs": [
    {
     "name": "stdout",
     "output_type": "stream",
     "text": [
      "Collecting sentence_transformers\n",
      "  Using cached sentence_transformers-2.2.2-py3-none-any.whl\n",
      "Requirement already satisfied: huggingface-hub>=0.4.0 in c:\\users\\uliana\\anaconda3\\lib\\site-packages (from sentence_transformers) (0.9.1)\n",
      "Requirement already satisfied: transformers<5.0.0,>=4.6.0 in c:\\users\\uliana\\anaconda3\\lib\\site-packages (from sentence_transformers) (4.22.1)\n",
      "Requirement already satisfied: nltk in c:\\users\\uliana\\anaconda3\\lib\\site-packages (from sentence_transformers) (3.6.7)\n",
      "Requirement already satisfied: tqdm in c:\\users\\uliana\\anaconda3\\lib\\site-packages (from sentence_transformers) (4.59.0)\n",
      "Requirement already satisfied: scipy in c:\\users\\uliana\\anaconda3\\lib\\site-packages (from sentence_transformers) (1.4.1)\n",
      "Requirement already satisfied: torch>=1.6.0 in c:\\users\\uliana\\anaconda3\\lib\\site-packages (from sentence_transformers) (1.12.1)\n",
      "Requirement already satisfied: numpy in c:\\users\\uliana\\anaconda3\\lib\\site-packages (from sentence_transformers) (1.22.4)\n",
      "Requirement already satisfied: scikit-learn in c:\\users\\uliana\\anaconda3\\lib\\site-packages (from sentence_transformers) (0.24.1)\n",
      "Collecting torchvision\n",
      "  Using cached torchvision-0.13.1-cp38-cp38-win_amd64.whl (1.1 MB)\n",
      "Requirement already satisfied: sentencepiece in c:\\users\\uliana\\anaconda3\\lib\\site-packages (from sentence_transformers) (0.1.97)\n",
      "Requirement already satisfied: requests in c:\\users\\uliana\\anaconda3\\lib\\site-packages (from huggingface-hub>=0.4.0->sentence_transformers) (2.25.1)\n",
      "Requirement already satisfied: pyyaml>=5.1 in c:\\users\\uliana\\anaconda3\\lib\\site-packages (from huggingface-hub>=0.4.0->sentence_transformers) (5.4.1)\n",
      "Requirement already satisfied: filelock in c:\\users\\uliana\\anaconda3\\lib\\site-packages (from huggingface-hub>=0.4.0->sentence_transformers) (3.0.12)\n",
      "Requirement already satisfied: typing-extensions>=3.7.4.3 in c:\\users\\uliana\\anaconda3\\lib\\site-packages (from huggingface-hub>=0.4.0->sentence_transformers) (3.7.4.3)\n",
      "Requirement already satisfied: packaging>=20.9 in c:\\users\\uliana\\anaconda3\\lib\\site-packages (from huggingface-hub>=0.4.0->sentence_transformers) (20.9)\n",
      "Requirement already satisfied: regex!=2019.12.17 in c:\\users\\uliana\\anaconda3\\lib\\site-packages (from transformers<5.0.0,>=4.6.0->sentence_transformers) (2022.1.18)\n",
      "Requirement already satisfied: tokenizers!=0.11.3,<0.13,>=0.11.1 in c:\\users\\uliana\\anaconda3\\lib\\site-packages (from transformers<5.0.0,>=4.6.0->sentence_transformers) (0.12.1)\n",
      "Requirement already satisfied: joblib in c:\\users\\uliana\\anaconda3\\lib\\site-packages (from nltk->sentence_transformers) (1.0.1)\n",
      "Requirement already satisfied: click in c:\\users\\uliana\\anaconda3\\lib\\site-packages (from nltk->sentence_transformers) (7.1.2)\n",
      "Requirement already satisfied: threadpoolctl>=2.0.0 in c:\\users\\uliana\\anaconda3\\lib\\site-packages (from scikit-learn->sentence_transformers) (2.1.0)\n",
      "Requirement already satisfied: pillow!=8.3.*,>=5.3.0 in c:\\users\\uliana\\anaconda3\\lib\\site-packages (from torchvision->sentence_transformers) (8.2.0)\n",
      "Requirement already satisfied: pyparsing>=2.0.2 in c:\\users\\uliana\\anaconda3\\lib\\site-packages (from packaging>=20.9->huggingface-hub>=0.4.0->sentence_transformers) (2.4.7)\n",
      "Requirement already satisfied: idna<3,>=2.5 in c:\\users\\uliana\\anaconda3\\lib\\site-packages (from requests->huggingface-hub>=0.4.0->sentence_transformers) (2.10)\n",
      "Requirement already satisfied: urllib3<1.27,>=1.21.1 in c:\\users\\uliana\\anaconda3\\lib\\site-packages (from requests->huggingface-hub>=0.4.0->sentence_transformers) (1.26.4)\n",
      "Requirement already satisfied: chardet<5,>=3.0.2 in c:\\users\\uliana\\anaconda3\\lib\\site-packages (from requests->huggingface-hub>=0.4.0->sentence_transformers) (4.0.0)\n",
      "Requirement already satisfied: certifi>=2017.4.17 in c:\\users\\uliana\\anaconda3\\lib\\site-packages (from requests->huggingface-hub>=0.4.0->sentence_transformers) (2020.12.5)\n",
      "Installing collected packages: torchvision, sentence_transformers\n",
      "Successfully installed sentence_transformers-2.2.2 torchvision-0.13.1\n"
     ]
    }
   ],
   "source": [
    "!pip install sentence_transformers"
   ]
  },
  {
   "cell_type": "markdown",
   "id": "39d011c1",
   "metadata": {},
   "source": [
    "1. Взять предобученную трансформерную архитектуру и решить задачу перевода (для тогоже корпуса что вы выбрали из предыдущего дз)"
   ]
  },
  {
   "cell_type": "code",
   "execution_count": 36,
   "id": "e51c65c2",
   "metadata": {},
   "outputs": [],
   "source": [
    "import io\n",
    "import re\n",
    "import pandas as pd\n",
    "import numpy as np\n",
    "\n",
    "from sentence_transformers import SentenceTransformer, util\n",
    "from transformers import FSMTForConditionalGeneration, FSMTTokenizer"
   ]
  },
  {
   "cell_type": "code",
   "execution_count": 4,
   "id": "7096e7de",
   "metadata": {},
   "outputs": [],
   "source": [
    "path_to_translate = \"rus-eng/rus.txt\""
   ]
  },
  {
   "cell_type": "code",
   "execution_count": 5,
   "id": "33842f78",
   "metadata": {},
   "outputs": [
    {
     "name": "stdout",
     "output_type": "stream",
     "text": [
      "Go.\tМарш!\tCC-BY 2.0 (France) Attribution: tatoeba.org #2877272 (CM) & #1159202 (shanghainese)\n",
      "\n"
     ]
    }
   ],
   "source": [
    "f = open(path_to_translate, encoding=\"utf8\")\n",
    "for line in f:\n",
    "    print(line)\n",
    "    break"
   ]
  },
  {
   "cell_type": "code",
   "execution_count": 6,
   "id": "4636b9b4",
   "metadata": {},
   "outputs": [],
   "source": [
    "def preprocess_sentence(w):\n",
    "    w = w.lower().strip()\n",
    "\n",
    "    w = re.sub(r\"([?.!,])\", r\" \\1 \", w)\n",
    "    w = re.sub(r'[\" \"]+', \" \", w)\n",
    "\n",
    "    w = re.sub(r\"[^a-zA-Zа-яА-Я?.!,']+\", \" \", w)\n",
    "  \n",
    "    w = w.strip()\n",
    "\n",
    "    return w"
   ]
  },
  {
   "cell_type": "code",
   "execution_count": 7,
   "id": "21019770",
   "metadata": {},
   "outputs": [],
   "source": [
    "def create_dataset(path, num_examples):\n",
    "    lines = io.open(path, encoding='UTF-8').read().strip().split('\\n')\n",
    "    word_pairs = [[preprocess_sentence(w) for w in l.split('\\t')[:2]]  for l in lines[:num_examples]]\n",
    "\n",
    "    return zip(*word_pairs)"
   ]
  },
  {
   "cell_type": "code",
   "execution_count": 8,
   "id": "01764f38",
   "metadata": {},
   "outputs": [
    {
     "name": "stdout",
     "output_type": "stream",
     "text": [
      "go .\n",
      "иди .\n"
     ]
    }
   ],
   "source": [
    "en, ru = create_dataset(path_to_translate, None)\n",
    "print(en[1])\n",
    "print(ru[1])"
   ]
  },
  {
   "cell_type": "code",
   "execution_count": 11,
   "id": "2520746f",
   "metadata": {},
   "outputs": [
    {
     "data": {
      "application/vnd.jupyter.widget-view+json": {
       "model_id": "47b9e7df8e644183b25e7c69e94e93f4",
       "version_major": 2,
       "version_minor": 0
      },
      "text/plain": [
       "Downloading:   0%|          | 0.00/1.16G [00:00<?, ?B/s]"
      ]
     },
     "metadata": {},
     "output_type": "display_data"
    }
   ],
   "source": [
    "mname = \"facebook/wmt19-ru-en\"\n",
    "tokenizer = FSMTTokenizer.from_pretrained(mname)\n",
    "model = FSMTForConditionalGeneration.from_pretrained(mname)"
   ]
  },
  {
   "cell_type": "code",
   "execution_count": 12,
   "id": "fcd7e291",
   "metadata": {},
   "outputs": [
    {
     "name": "stderr",
     "output_type": "stream",
     "text": [
      "C:\\Users\\Uliana\\anaconda3\\lib\\site-packages\\transformers\\generation_utils.py:1227: UserWarning: Neither `max_length` nor `max_new_tokens` has been set, `max_length` will default to 200 (`self.config.max_length`). Controlling `max_length` via the config is deprecated and `max_length` will be removed from the config in v5 of Transformers -- we recommend using `max_new_tokens` to control the maximum length of the generation.\n",
      "  warnings.warn(\n"
     ]
    },
    {
     "name": "stdout",
     "output_type": "stream",
     "text": [
      "WARNING:tensorflow:Please fix your imports. Module tensorflow.python.training.tracking.base has been moved to tensorflow.python.trackable.base. The old module will be deleted in version 2.11.\n",
      "WARNING:tensorflow:Please fix your imports. Module tensorflow.python.training.checkpoint_management has been moved to tensorflow.python.checkpoint.checkpoint_management. The old module will be deleted in version 2.9.\n",
      "WARNING:tensorflow:Please fix your imports. Module tensorflow.python.training.tracking.resource has been moved to tensorflow.python.trackable.resource. The old module will be deleted in version 2.11.\n",
      "WARNING:tensorflow:Please fix your imports. Module tensorflow.python.training.tracking.graph_view has been moved to tensorflow.python.checkpoint.graph_view. The old module will be deleted in version 2.11.\n",
      "WARNING:tensorflow:Please fix your imports. Module tensorflow.python.training.tracking.python_state has been moved to tensorflow.python.trackable.python_state. The old module will be deleted in version 2.11.\n",
      "WARNING:tensorflow:Please fix your imports. Module tensorflow.python.training.tracking.util has been moved to tensorflow.python.checkpoint.checkpoint. The old module will be deleted in version 2.11.\n",
      "WARNING:tensorflow:Please fix your imports. Module tensorflow.python.training.saving.functional_saver has been moved to tensorflow.python.checkpoint.functional_saver. The old module will be deleted in version 2.11.\n",
      "WARNING:tensorflow:Please fix your imports. Module tensorflow.python.training.saving.checkpoint_options has been moved to tensorflow.python.checkpoint.checkpoint_options. The old module will be deleted in version 2.11.\n",
      "ru: марш !, en: march!, real: go .\n"
     ]
    },
    {
     "name": "stderr",
     "output_type": "stream",
     "text": [
      "C:\\Users\\Uliana\\anaconda3\\lib\\site-packages\\transformers\\generation_utils.py:1227: UserWarning: Neither `max_length` nor `max_new_tokens` has been set, `max_length` will default to 200 (`self.config.max_length`). Controlling `max_length` via the config is deprecated and `max_length` will be removed from the config in v5 of Transformers -- we recommend using `max_new_tokens` to control the maximum length of the generation.\n",
      "  warnings.warn(\n"
     ]
    },
    {
     "name": "stdout",
     "output_type": "stream",
     "text": [
      "ru: иди ., en: Go., real: go .\n",
      "ru: идите ., en: Go., real: go .\n",
      "ru: здравствуйте ., en: Hello., real: hi .\n",
      "ru: привет !, en: Hello!, real: hi .\n",
      "ru: хай ., en: Hai., real: hi .\n",
      "ru: здрасте ., en: , real: hi .\n",
      "ru: здоро во !, en: Good morning and welcome!, real: hi .\n",
      "ru: приветик !, en: Hello!, real: hi .\n",
      "ru: беги !, en: Run!, real: run !\n"
     ]
    }
   ],
   "source": [
    "for i in range(10):\n",
    "    input = ru[i]\n",
    "    input_ids = tokenizer.encode(input, return_tensors=\"pt\")\n",
    "    output = model.generate(input_ids)\n",
    "    decoded = tokenizer.decode(output[0], skip_special_tokens=True)\n",
    "    print(f'ru: {input}, en: {decoded}, real: {en[i]}')"
   ]
  },
  {
   "cell_type": "code",
   "execution_count": 13,
   "id": "4a4ceaf9",
   "metadata": {},
   "outputs": [
    {
     "name": "stdout",
     "output_type": "stream",
     "text": [
      "ru: Морозы сковали землю, en: Frost shackled the earth\n",
      "ru: Замерзли реки и озера, en: Rivers and lakes frozen\n",
      "ru: Везде лежит белый пушистый снег, en: White, fluffy snow lies everywhere\n",
      "ru:  Дети рады зиме, en: Children are happy in winter\n",
      "ru: По свежему снегу приятно бежать на лыжах, en: On fresh snow it is pleasant to run on skis\n",
      "ru: Матвей и Лера играют в снежки, en: Matthew and Lera Play Snowball\n",
      "ru: Андрей и Саша лепят снежную бабу, en: Andrei and Sascha sculpt a snow babe\n",
      "ru: Только животным тяжело в зимнюю стужу, en: Only animals find it hard in the winter cold\n",
      "ru: Птицы летят ближе к жилью, en: Birds fly closer to home\n",
      "ru: Ребята, помогите зимой нашим маленьким друзьям, en: Guys, help our little friends in winter\n",
      "ru: Сделайте для птиц кормушки, en: Make feeders for birds\n"
     ]
    }
   ],
   "source": [
    "inputs = ['Морозы сковали землю', 'Замерзли реки и озера', 'Везде лежит белый пушистый снег', ' Дети рады зиме', \n",
    "          'По свежему снегу приятно бежать на лыжах', 'Матвей и Лера играют в снежки', 'Андрей и Саша лепят снежную бабу', \n",
    "          'Только животным тяжело в зимнюю стужу', 'Птицы летят ближе к жилью', 'Ребята, помогите зимой нашим маленьким друзьям', \n",
    "          'Сделайте для птиц кормушки']\n",
    "for input in inputs:\n",
    "    input_ids = tokenizer.encode(input, return_tensors=\"pt\")\n",
    "    output = model.generate(input_ids)\n",
    "    decoded = tokenizer.decode(output[0], skip_special_tokens=True)\n",
    "    print(f'ru: {input}, en: {decoded}')"
   ]
  },
  {
   "cell_type": "markdown",
   "id": "b388bf03",
   "metadata": {},
   "source": [
    "Вполне неплохо справился с переводом, даже с сугубр русскими литературными выражениями"
   ]
  },
  {
   "cell_type": "markdown",
   "id": "a4333034",
   "metadata": {},
   "source": [
    "2. скачиваем готовый новостной датасет скачиваем из https://github.com/natasha/corus/blob/master/README.md любой новостной датасет"
   ]
  },
  {
   "cell_type": "code",
   "execution_count": 14,
   "id": "52b07d5a",
   "metadata": {},
   "outputs": [
    {
     "data": {
      "text/plain": [
       "LentaRecord(\n",
       "    url='https://lenta.ru/news/2018/12/14/cancer/',\n",
       "    title='Названы регионы России с\\xa0самой высокой смертностью от\\xa0рака',\n",
       "    text='Вице-премьер по социальным вопросам Татьяна Голикова рассказала, в каких регионах России зафиксирована наиболее высокая смертность от рака, сообщает РИА Новости. По словам Голиковой, чаще всего онкологические заболевания становились причиной смерти в Псковской, Тверской, Тульской и Орловской областях, а также в Севастополе. Вице-премьер напомнила, что главные факторы смертности в России — рак и болезни системы кровообращения. В начале года стало известно, что смертность от онкологических заболеваний среди россиян снизилась впервые за три года. По данным Росстата, в 2017 году от рака умерли 289 тысяч человек. Это на 3,5 процента меньше, чем годом ранее.',\n",
       "    topic='Россия',\n",
       "    tags='Общество',\n",
       "    date=None\n",
       ")"
      ]
     },
     "execution_count": 14,
     "metadata": {},
     "output_type": "execute_result"
    }
   ],
   "source": [
    "from corus import load_lenta\n",
    "\n",
    "path = 'lenta-ru-news.csv.gz'\n",
    "records = load_lenta(path)\n",
    "next(records)"
   ]
  },
  {
   "cell_type": "code",
   "execution_count": 18,
   "id": "021ac267",
   "metadata": {},
   "outputs": [],
   "source": [
    "df = pd.DataFrame(records)"
   ]
  },
  {
   "cell_type": "code",
   "execution_count": 19,
   "id": "e4c93efc",
   "metadata": {},
   "outputs": [
    {
     "data": {
      "text/html": [
       "<div>\n",
       "<style scoped>\n",
       "    .dataframe tbody tr th:only-of-type {\n",
       "        vertical-align: middle;\n",
       "    }\n",
       "\n",
       "    .dataframe tbody tr th {\n",
       "        vertical-align: top;\n",
       "    }\n",
       "\n",
       "    .dataframe thead th {\n",
       "        text-align: right;\n",
       "    }\n",
       "</style>\n",
       "<table border=\"1\" class=\"dataframe\">\n",
       "  <thead>\n",
       "    <tr style=\"text-align: right;\">\n",
       "      <th></th>\n",
       "      <th>0</th>\n",
       "      <th>1</th>\n",
       "      <th>2</th>\n",
       "      <th>3</th>\n",
       "      <th>4</th>\n",
       "      <th>5</th>\n",
       "    </tr>\n",
       "  </thead>\n",
       "  <tbody>\n",
       "    <tr>\n",
       "      <th>0</th>\n",
       "      <td>https://lenta.ru/news/2018/12/15/doping/</td>\n",
       "      <td>Австрия не представила доказательств вины росс...</td>\n",
       "      <td>Австрийские правоохранительные органы не предс...</td>\n",
       "      <td>Спорт</td>\n",
       "      <td>Зимние виды</td>\n",
       "      <td>None</td>\n",
       "    </tr>\n",
       "    <tr>\n",
       "      <th>1</th>\n",
       "      <td>https://lenta.ru/news/2018/12/15/disneyland/</td>\n",
       "      <td>Обнаружено самое счастливое место на планете</td>\n",
       "      <td>Сотрудники социальной сети Instagram проанализ...</td>\n",
       "      <td>Путешествия</td>\n",
       "      <td>Мир</td>\n",
       "      <td>None</td>\n",
       "    </tr>\n",
       "    <tr>\n",
       "      <th>2</th>\n",
       "      <td>https://lenta.ru/news/2018/12/15/usa25/</td>\n",
       "      <td>В США раскрыли сумму расходов на расследование...</td>\n",
       "      <td>С начала расследования российского вмешательст...</td>\n",
       "      <td>Мир</td>\n",
       "      <td>Политика</td>\n",
       "      <td>None</td>\n",
       "    </tr>\n",
       "    <tr>\n",
       "      <th>3</th>\n",
       "      <td>https://lenta.ru/news/2018/12/15/integrity/</td>\n",
       "      <td>Хакеры рассказали о планах Великобритании зами...</td>\n",
       "      <td>Хакерская группировка Anonymous опубликовала н...</td>\n",
       "      <td>Мир</td>\n",
       "      <td>Общество</td>\n",
       "      <td>None</td>\n",
       "    </tr>\n",
       "    <tr>\n",
       "      <th>4</th>\n",
       "      <td>https://lenta.ru/news/2018/12/15/sobor/</td>\n",
       "      <td>Архиепископ канонической УПЦ отказался прийти ...</td>\n",
       "      <td>Архиепископ канонической Украинской православн...</td>\n",
       "      <td>Бывший СССР</td>\n",
       "      <td>Украина</td>\n",
       "      <td>None</td>\n",
       "    </tr>\n",
       "  </tbody>\n",
       "</table>\n",
       "</div>"
      ],
      "text/plain": [
       "                                              0  \\\n",
       "0      https://lenta.ru/news/2018/12/15/doping/   \n",
       "1  https://lenta.ru/news/2018/12/15/disneyland/   \n",
       "2       https://lenta.ru/news/2018/12/15/usa25/   \n",
       "3   https://lenta.ru/news/2018/12/15/integrity/   \n",
       "4       https://lenta.ru/news/2018/12/15/sobor/   \n",
       "\n",
       "                                                   1  \\\n",
       "0  Австрия не представила доказательств вины росс...   \n",
       "1       Обнаружено самое счастливое место на планете   \n",
       "2  В США раскрыли сумму расходов на расследование...   \n",
       "3  Хакеры рассказали о планах Великобритании зами...   \n",
       "4  Архиепископ канонической УПЦ отказался прийти ...   \n",
       "\n",
       "                                                   2            3  \\\n",
       "0  Австрийские правоохранительные органы не предс...        Спорт   \n",
       "1  Сотрудники социальной сети Instagram проанализ...  Путешествия   \n",
       "2  С начала расследования российского вмешательст...          Мир   \n",
       "3  Хакерская группировка Anonymous опубликовала н...          Мир   \n",
       "4  Архиепископ канонической Украинской православн...  Бывший СССР   \n",
       "\n",
       "             4     5  \n",
       "0  Зимние виды  None  \n",
       "1          Мир  None  \n",
       "2     Политика  None  \n",
       "3     Общество  None  \n",
       "4      Украина  None  "
      ]
     },
     "execution_count": 19,
     "metadata": {},
     "output_type": "execute_result"
    }
   ],
   "source": [
    "df.head()"
   ]
  },
  {
   "cell_type": "code",
   "execution_count": 20,
   "id": "48c3edca",
   "metadata": {},
   "outputs": [
    {
     "data": {
      "text/plain": [
       "(739350, 6)"
      ]
     },
     "execution_count": 20,
     "metadata": {},
     "output_type": "execute_result"
    }
   ],
   "source": [
    "df.shape"
   ]
  },
  {
   "cell_type": "markdown",
   "id": "4a59b0b9",
   "metadata": {},
   "source": [
    "реализовать метод поиска ближайших статей (на вход метода должен приходить запрос (какой-то вопрос) и количество вариантов вывода к примеру топ 5-ть или 3-ри, ваш метод должен возвращать топ-k ближайших статей к этому запросу) визуально оценить качество"
   ]
  },
  {
   "cell_type": "code",
   "execution_count": 26,
   "id": "56c2cbb7",
   "metadata": {},
   "outputs": [
    {
     "data": {
      "application/vnd.jupyter.widget-view+json": {
       "model_id": "361c6c79fbb04542bbca019f09accf69",
       "version_major": 2,
       "version_minor": 0
      },
      "text/plain": [
       "Downloading:   0%|          | 0.00/1.18k [00:00<?, ?B/s]"
      ]
     },
     "metadata": {},
     "output_type": "display_data"
    },
    {
     "data": {
      "application/vnd.jupyter.widget-view+json": {
       "model_id": "9b270af5e4ed4510a29d0c08c45701a3",
       "version_major": 2,
       "version_minor": 0
      },
      "text/plain": [
       "Downloading:   0%|          | 0.00/190 [00:00<?, ?B/s]"
      ]
     },
     "metadata": {},
     "output_type": "display_data"
    },
    {
     "data": {
      "application/vnd.jupyter.widget-view+json": {
       "model_id": "3c4bd4f3d129463ea2166889f6b5ad4d",
       "version_major": 2,
       "version_minor": 0
      },
      "text/plain": [
       "Downloading:   0%|          | 0.00/2.73k [00:00<?, ?B/s]"
      ]
     },
     "metadata": {},
     "output_type": "display_data"
    },
    {
     "data": {
      "application/vnd.jupyter.widget-view+json": {
       "model_id": "57e426c02bbf496b83ecaaa68f49e736",
       "version_major": 2,
       "version_minor": 0
      },
      "text/plain": [
       "Downloading:   0%|          | 0.00/677 [00:00<?, ?B/s]"
      ]
     },
     "metadata": {},
     "output_type": "display_data"
    },
    {
     "data": {
      "application/vnd.jupyter.widget-view+json": {
       "model_id": "9225e1584083482788eb473eb5cb5206",
       "version_major": 2,
       "version_minor": 0
      },
      "text/plain": [
       "Downloading:   0%|          | 0.00/116 [00:00<?, ?B/s]"
      ]
     },
     "metadata": {},
     "output_type": "display_data"
    },
    {
     "data": {
      "application/vnd.jupyter.widget-view+json": {
       "model_id": "56268ea470ce40c9bb0397e05c402036",
       "version_major": 2,
       "version_minor": 0
      },
      "text/plain": [
       "Downloading:   0%|          | 0.00/1.11G [00:00<?, ?B/s]"
      ]
     },
     "metadata": {},
     "output_type": "display_data"
    },
    {
     "data": {
      "application/vnd.jupyter.widget-view+json": {
       "model_id": "39798ce9f0d94cbe829d183937edbef3",
       "version_major": 2,
       "version_minor": 0
      },
      "text/plain": [
       "Downloading:   0%|          | 0.00/53.0 [00:00<?, ?B/s]"
      ]
     },
     "metadata": {},
     "output_type": "display_data"
    },
    {
     "data": {
      "application/vnd.jupyter.widget-view+json": {
       "model_id": "5f0ba39a5d8748ba8ee178aa688f0776",
       "version_major": 2,
       "version_minor": 0
      },
      "text/plain": [
       "Downloading:   0%|          | 0.00/5.07M [00:00<?, ?B/s]"
      ]
     },
     "metadata": {},
     "output_type": "display_data"
    },
    {
     "data": {
      "application/vnd.jupyter.widget-view+json": {
       "model_id": "d52d208211854f5c8b1dada2bb28d8f3",
       "version_major": 2,
       "version_minor": 0
      },
      "text/plain": [
       "Downloading:   0%|          | 0.00/239 [00:00<?, ?B/s]"
      ]
     },
     "metadata": {},
     "output_type": "display_data"
    },
    {
     "data": {
      "application/vnd.jupyter.widget-view+json": {
       "model_id": "224b80bd1d1643b4ae1f8098fede9f33",
       "version_major": 2,
       "version_minor": 0
      },
      "text/plain": [
       "Downloading:   0%|          | 0.00/9.08M [00:00<?, ?B/s]"
      ]
     },
     "metadata": {},
     "output_type": "display_data"
    },
    {
     "data": {
      "application/vnd.jupyter.widget-view+json": {
       "model_id": "0869444d3aaa415894fa0e60c37344a8",
       "version_major": 2,
       "version_minor": 0
      },
      "text/plain": [
       "Downloading:   0%|          | 0.00/356 [00:00<?, ?B/s]"
      ]
     },
     "metadata": {},
     "output_type": "display_data"
    },
    {
     "data": {
      "application/vnd.jupyter.widget-view+json": {
       "model_id": "84544d7cb1314beeafab88d600a1b7fc",
       "version_major": 2,
       "version_minor": 0
      },
      "text/plain": [
       "Downloading:   0%|          | 0.00/229 [00:00<?, ?B/s]"
      ]
     },
     "metadata": {},
     "output_type": "display_data"
    }
   ],
   "source": [
    "model = SentenceTransformer('symanto/sn-xlm-roberta-base-snli-mnli-anli-xnli')"
   ]
  },
  {
   "cell_type": "code",
   "execution_count": 66,
   "id": "c08e9c9c",
   "metadata": {},
   "outputs": [],
   "source": [
    "sentences = df[2][:2000]"
   ]
  },
  {
   "cell_type": "code",
   "execution_count": 67,
   "id": "01488406",
   "metadata": {},
   "outputs": [],
   "source": [
    "embeddings = model.encode(sentences, convert_to_tensor=True)"
   ]
  },
  {
   "cell_type": "code",
   "execution_count": 68,
   "id": "0b261471",
   "metadata": {},
   "outputs": [],
   "source": [
    "def get_similar(embeddings, sentence, n):\n",
    "    \"\"\"Get <n> similar embeddings for <sentence> and given embeddings\"\"\"\n",
    "    \n",
    "    assert n > 0, \"Bad n\"\n",
    "    \n",
    "    # Compute embeddings\n",
    "    s_emb =  model.encode([sentence], convert_to_tensor=True)\n",
    "\n",
    "    # Compute cosine-similarities for each sentence\n",
    "    cosine_scores = util.cos_sim(s_emb, embeddings)\n",
    "    \n",
    "    # Compute max n scores indexes\n",
    "    max_scores_idx = np.argpartition(cosine_scores[0], -n)[-n:]\n",
    "    \n",
    "    return cosine_scores, max_scores_idx"
   ]
  },
  {
   "cell_type": "code",
   "execution_count": 69,
   "id": "aa38c124",
   "metadata": {},
   "outputs": [
    {
     "data": {
      "text/plain": [
       "'США приняли решение усилить охрану посольства в Судане после того, как президенту этой страны Омару аль-Баширу были предъявлены обвинения в геноциде, сообщает агентство Reuters. Представитель Госдепартамента США Шон Маккормак заявил, что \"надлежащие меры по обеспечению безопасности\" будут приняты для защиты не только персонала посольства, но и вообще всех находящихся в Судане американцев. Никаких подробностей он, однако, не сообщил. Как сообщает агентство France Presse президент США Джордж Буш со своей стороны выразил \"серьезную озабоченность\" ситуацией в суданском Дарфуре и заявил, что США будут содействовать усилению роли миротворцев ООН и Африканского союза в Судане. Напомним, ранее в понедельник главный прокурор Международного уголовного суда в Гааге обвинил аль-Башира в геноциде и преступлениях против человечности, потребовав его ареста. По словам Маккормака, эти обвинения могут стать причиной роста напряженности и антиамериканских настроений в Судане. Конфликт между властями Судана и частью населения провинции Дарфур начался в 2003 году. С того времени в результате боевых действий погибли около 300 тысяч человек, и более двух миллионов стали беженцами. По мнению прокурора Гаагского суда, аль-Башир лично санкционировал убийства жителей Дарфура и виновен в гибели по меньшей мере 35 тысяч человек. В связи с ситуацией в Дарфуре США ввели санкции против правительства этой страны, а в начале 2008 года заявили о намерении их ужесточить.'"
      ]
     },
     "execution_count": 69,
     "metadata": {},
     "output_type": "execute_result"
    }
   ],
   "source": [
    "rnd = np.random.randint(1000, df.shape[0])\n",
    "sentence = df.iloc[rnd, 2]\n",
    "\n",
    "sentence"
   ]
  },
  {
   "cell_type": "code",
   "execution_count": 75,
   "id": "6b2990ca",
   "metadata": {},
   "outputs": [],
   "source": [
    "cosine_scores, max_scores_idx = get_similar(embeddings, sentence, 3)"
   ]
  },
  {
   "cell_type": "code",
   "execution_count": 76,
   "id": "f84a7742",
   "metadata": {},
   "outputs": [
    {
     "data": {
      "text/plain": [
       "tensor([0.1836, 0.2021, 0.2319])"
      ]
     },
     "execution_count": 76,
     "metadata": {},
     "output_type": "execute_result"
    }
   ],
   "source": [
    "cosine_scores[0][max_scores_idx]"
   ]
  },
  {
   "cell_type": "code",
   "execution_count": 77,
   "id": "61f6b45e",
   "metadata": {},
   "outputs": [
    {
     "name": "stdout",
     "output_type": "stream",
     "text": [
      "В Челябинской области электрослесарь Василий Борисенко сжег заживо в автомобиле свою жену и мужа ее сестры. Преступление он объяснил ревностью, сообщается на сайте Челябинского областного суда. Суд установил, что в ночь на 3 января в поселке Кленовка обвиняемый праздновал наступление Нового года в компании жены и семьи ее сестры. Затем сестра жены сообщила Борисенко, что та изменила ему с ее мужем. Тогда он избил жену, затем доехал до дома мужа ее сестры, избил его до бессознательного состояния и бросил в багажник автомобиля. Вернувшись домой, Борисенко несколько раз ударил супругу и также поместил ее в багажник. Он отвез заложников в лес, где поджег транспортное средство, используя зажигалку и рекламные буклеты. Находившиеся внутри мужчина и женщина скончались от отравления угарным газом. Спустя два дня после поджога Борисенко сам пришел в полицию и рассказал об убийстве. Он частично признал вину, оправдав преступление чувством ревности. Его признали виновным в двойном убийстве (пункт «а» части 2 статьи 105 УК). Суд счел смягчающим обстоятельством, что у подсудимого осталось трое детей. Ранее в Подмосковье произошло два массовых убийства и суицид, причиной которых стала ревность. В одной из квартир в Видном были обнаружены тела мужчины и женщины с множественными огнестрельными ранениями, а также мужчина с ранением головы, который после доставки в больницу скончался.\n",
      "\n",
      "\n",
      "Военнослужащим Военно-морских сил (ВМС) Украины и сотрудникам Службы безопасности Украины (СБУ), которые были задержаны в Керченском проливе, предъявлено обвинение в незаконном пересечении российской границы. Об этом в понедельник, 3 декабря, Николай Полозов, адвокат одного из арестованных украинских военнослужащих Дениса Гриценко,  сообщил ТАСС. По словам Полозова, обвинение всем фигурантам было предъявлено сразу после ареста. Всем им инкриминируется часть 3 статьи 322 УК РФ («Незаконное пересечение границы РФ»). Полозов также отметил, что с момента ареста не встречался со своим клиентом. По его словам, волонтеры привезли в СИЗО собранные для моряков вещи. 30 ноября сообщалось, что украинские военные моряки и сотрудники СБУ, задержанные у Керченского пролива и взятые под стражу Киевским районным судом Симферополя, этапированы в Москву. Инцидент в районе Керченского пролива произошел 25 ноября. Пограничное управление ФСБ задержало три военных украинских корабля после того, как они пересекли российскую границу (в ФСБ утверждают, что корабли зашли в воды, которые и до присоединения Крыма к РФ были российскими) и не отреагировали на требование остановиться. 24 моряка арестованы на два месяца. В ответ на действия российских пограничников президент Украины Петр Порошенко ввел военное положение в ряде регионов на 30 дней. Киев не признает российский статус Крыма. Украинские власти считают полуостров и воды вокруг него своими.\n",
      "\n",
      "\n",
      "Полицейские Алекс Коллинс и Трейси Холлоуэй, оказавшие первую помощь Сергею Скрипалю и его дочери Юлии, рассказали подробности того дня, когда обнаружили их. Констебль и сержант поделились воспоминаниями с газетой The Guardian. По словам стражей порядка, их дежурство началось за час с четвертью до того, как в полицию поступило сообщение о пожилом мужчине и молодой женщине, которым стало плохо на улице. Наряд прибыл на место за две минуты, и состояние пострадавших сразу показалось сотрудникам правоохранительных органов странным. Коллинс отметил, что женщина (Юлия) лежала на земле на боку. Прохожий, врач по специальности, оказывал ей помощь, освобождая дыхательные пути. «Мужчина [Скрипаль] сидел на скамейке неподвижный, в кататоническом ступоре, глядя куда-то в пространство. Он дышал, но ни на что не отзывался. Нашей первой мыслью было: это наркотики», — пояснил констебль. Холлоуэй добавила, что Скрипаль сохранял ту же позу, когда медики пытались погрузить его на носилки. Он, по ее словам, застыл в сидячем положении и не мог пошевелиться и изменить положение. Коллинс рассказал, что осмотрел Скрипалей в перчатках, а Холлоуэй без всякой защиты обыскала их, чтобы установить личности. Найденные вещи озадачили полицейских. «Мы заглянули в их кошельки, пытаясь найти паспорта. Был телефон с русскоязычным интерфейсом. Имена незнакомые. Это было странно. Это было неправильно. Это было не совсем нормально», — вспоминает сержант. Стражи порядка приказали прохожим отойти и вызвали медиков и наряд пожарных с костюмами химзащиты. В марте бывший офицер ГРУ Сергей Скрипаль и его дочь Юлия были найдены в бессознательном состоянии в сквере в британском Солсбери. Лондон считает, что они были отравлены нервно-паралитическим веществом класса «Новичок». Британские власти обвиняют в причастности к отравлению Россию. Москва все обвинения отвергает.\n",
      "\n",
      "\n"
     ]
    }
   ],
   "source": [
    "for t in sentences[max_scores_idx.tolist()]:\n",
    "    print(t)\n",
    "    print(\"\\n\")"
   ]
  },
  {
   "cell_type": "code",
   "execution_count": 78,
   "id": "a1cbdf73",
   "metadata": {},
   "outputs": [
    {
     "name": "stdout",
     "output_type": "stream",
     "text": [
      "Все\n",
      "\n",
      "\n",
      "tensor([0.1729, 0.1829, 0.1836, 0.2021, 0.2319])\n",
      "\n",
      "\n",
      "Бывшему главе Ирбейского района Красноярского края Дмитрию Гушану и его сообщнику вынесен приговор за незаконную покупку взлетно-посадочной полосы. Об этом в понедельник, 10 декабря, в прокуратуре Красноярского края сообщили газете «Коммерсантъ». Как установило следствие, в период с 2013 по 2014 год Гушану и директор компании «Ориентир» незаконно приобрели право на железобетонную взлетно-посадочную полосу бывшего аэропорта Ирбей и земельный участок под ним. Ущерб, нанесенный администрации Ирбейского района, составил 20,9 миллиона рублей. В отношении сообщников было возбуждено уголовное дело по части 4 статьи 159 УК РФ («Мошенничество в особо крупном размере»). Канский городской суд Красноярского края признал подсудимых виновными и с учетом смягчающих обстоятельств  приговорил каждого к трем годам лишения свободы условно. Подсудимые возместили ущерб на сумму почти 300 тысяч рублей. 7 сентября 2018 года сообщалось, что Мосгорсуд снизил на два года наказание бывшему главе Росграницы Дмитрию Безделову, осужденному за хищение 500 миллионов рублей.\n",
      "\n",
      "\n",
      "Организатор убийства депутата Госдумы Галины Старовойтовой бывший прапорщик Главного управления Генерального штаба Вооруженных сил России (ГРУ) подал прошение об условно-досрочном освобождении. Об этом в четверг, 13 декабря, сообщает газета «Коммерсантъ». По данным издания, Брасовский районный суд Брянской области согласился рассмотреть прошение 50-летнего Юрия Колчина, приговоренного к 20 годам лишения свободы. Заседание, назначенное на 25 декабря, пройдет в режиме видеоконференции. В 2016 году сообщалось, что Колчин уже обращался с аналогичным ходатайством в Тосненский районный суд Ленинградской области, однако в УДО ему было отказано. В ночь на 21 ноября 1998 года политик Галина Старовойтова, депутат Государственной Думы и сопредседатель партии «Демократическая Россия», была убита в подъезде своего дома на канале Грибоедова в Петербурге. Находившийся вместе с ней помощник депутата Руслан Линьков получил ранения. В 2005 году Юрия Колчина приговорили к 20 годам лишения свободы как  организатора преступления. С учетом ареста он пробыл под стражей 16 лет.\n",
      "\n",
      "\n",
      "В Челябинской области электрослесарь Василий Борисенко сжег заживо в автомобиле свою жену и мужа ее сестры. Преступление он объяснил ревностью, сообщается на сайте Челябинского областного суда. Суд установил, что в ночь на 3 января в поселке Кленовка обвиняемый праздновал наступление Нового года в компании жены и семьи ее сестры. Затем сестра жены сообщила Борисенко, что та изменила ему с ее мужем. Тогда он избил жену, затем доехал до дома мужа ее сестры, избил его до бессознательного состояния и бросил в багажник автомобиля. Вернувшись домой, Борисенко несколько раз ударил супругу и также поместил ее в багажник. Он отвез заложников в лес, где поджег транспортное средство, используя зажигалку и рекламные буклеты. Находившиеся внутри мужчина и женщина скончались от отравления угарным газом. Спустя два дня после поджога Борисенко сам пришел в полицию и рассказал об убийстве. Он частично признал вину, оправдав преступление чувством ревности. Его признали виновным в двойном убийстве (пункт «а» части 2 статьи 105 УК). Суд счел смягчающим обстоятельством, что у подсудимого осталось трое детей. Ранее в Подмосковье произошло два массовых убийства и суицид, причиной которых стала ревность. В одной из квартир в Видном были обнаружены тела мужчины и женщины с множественными огнестрельными ранениями, а также мужчина с ранением головы, который после доставки в больницу скончался.\n",
      "\n",
      "\n",
      "Военнослужащим Военно-морских сил (ВМС) Украины и сотрудникам Службы безопасности Украины (СБУ), которые были задержаны в Керченском проливе, предъявлено обвинение в незаконном пересечении российской границы. Об этом в понедельник, 3 декабря, Николай Полозов, адвокат одного из арестованных украинских военнослужащих Дениса Гриценко,  сообщил ТАСС. По словам Полозова, обвинение всем фигурантам было предъявлено сразу после ареста. Всем им инкриминируется часть 3 статьи 322 УК РФ («Незаконное пересечение границы РФ»). Полозов также отметил, что с момента ареста не встречался со своим клиентом. По его словам, волонтеры привезли в СИЗО собранные для моряков вещи. 30 ноября сообщалось, что украинские военные моряки и сотрудники СБУ, задержанные у Керченского пролива и взятые под стражу Киевским районным судом Симферополя, этапированы в Москву. Инцидент в районе Керченского пролива произошел 25 ноября. Пограничное управление ФСБ задержало три военных украинских корабля после того, как они пересекли российскую границу (в ФСБ утверждают, что корабли зашли в воды, которые и до присоединения Крыма к РФ были российскими) и не отреагировали на требование остановиться. 24 моряка арестованы на два месяца. В ответ на действия российских пограничников президент Украины Петр Порошенко ввел военное положение в ряде регионов на 30 дней. Киев не признает российский статус Крыма. Украинские власти считают полуостров и воды вокруг него своими.\n",
      "\n",
      "\n",
      "Полицейские Алекс Коллинс и Трейси Холлоуэй, оказавшие первую помощь Сергею Скрипалю и его дочери Юлии, рассказали подробности того дня, когда обнаружили их. Констебль и сержант поделились воспоминаниями с газетой The Guardian. По словам стражей порядка, их дежурство началось за час с четвертью до того, как в полицию поступило сообщение о пожилом мужчине и молодой женщине, которым стало плохо на улице. Наряд прибыл на место за две минуты, и состояние пострадавших сразу показалось сотрудникам правоохранительных органов странным. Коллинс отметил, что женщина (Юлия) лежала на земле на боку. Прохожий, врач по специальности, оказывал ей помощь, освобождая дыхательные пути. «Мужчина [Скрипаль] сидел на скамейке неподвижный, в кататоническом ступоре, глядя куда-то в пространство. Он дышал, но ни на что не отзывался. Нашей первой мыслью было: это наркотики», — пояснил констебль. Холлоуэй добавила, что Скрипаль сохранял ту же позу, когда медики пытались погрузить его на носилки. Он, по ее словам, застыл в сидячем положении и не мог пошевелиться и изменить положение. Коллинс рассказал, что осмотрел Скрипалей в перчатках, а Холлоуэй без всякой защиты обыскала их, чтобы установить личности. Найденные вещи озадачили полицейских. «Мы заглянули в их кошельки, пытаясь найти паспорта. Был телефон с русскоязычным интерфейсом. Имена незнакомые. Это было странно. Это было неправильно. Это было не совсем нормально», — вспоминает сержант. Стражи порядка приказали прохожим отойти и вызвали медиков и наряд пожарных с костюмами химзащиты. В марте бывший офицер ГРУ Сергей Скрипаль и его дочь Юлия были найдены в бессознательном состоянии в сквере в британском Солсбери. Лондон считает, что они были отравлены нервно-паралитическим веществом класса «Новичок». Британские власти обвиняют в причастности к отравлению Россию. Москва все обвинения отвергает.\n",
      "\n",
      "\n"
     ]
    }
   ],
   "source": [
    "rnd = np.random.randint(1000, df.shape[0])\n",
    "sentence = df.iloc[rnd, 4]\n",
    "\n",
    "print(sentence)\n",
    "\n",
    "cosine_scores, max_scores_idx = get_similar(embeddings, sentence, 5)\n",
    "print(\"\\n\")\n",
    "print(cosine_scores[0][max_scores_idx])\n",
    "print(\"\\n\")\n",
    "\n",
    "for t in sentences[max_scores_idx.tolist()]:\n",
    "    print(t)\n",
    "    print(\"\\n\")"
   ]
  },
  {
   "cell_type": "markdown",
   "id": "8c87e045",
   "metadata": {},
   "source": [
    "Вывод: В принципе, если взять идею о том, что первая статья была о преступлении (генцид - это нехорошо), а так же то, что речь идет о международной политике, то можно считать, что моделька справилась успешно"
   ]
  },
  {
   "cell_type": "code",
   "execution_count": null,
   "id": "d3a15c4c",
   "metadata": {},
   "outputs": [],
   "source": []
  }
 ],
 "metadata": {
  "kernelspec": {
   "display_name": "Python 3",
   "language": "python",
   "name": "python3"
  },
  "language_info": {
   "codemirror_mode": {
    "name": "ipython",
    "version": 3
   },
   "file_extension": ".py",
   "mimetype": "text/x-python",
   "name": "python",
   "nbconvert_exporter": "python",
   "pygments_lexer": "ipython3",
   "version": "3.8.8"
  }
 },
 "nbformat": 4,
 "nbformat_minor": 5
}
