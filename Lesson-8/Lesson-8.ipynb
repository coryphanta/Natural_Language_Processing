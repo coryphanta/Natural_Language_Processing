{
 "cells": [
  {
   "cell_type": "markdown",
   "id": "9563ba39",
   "metadata": {},
   "source": [
    "### Задание\n",
    "Данные берем отызывы за лето\n",
    "На вебинаре мы говорили, что долгое время CNN и RNN архитектуры были конурируещими выяснить какая архитектура больше подходит для нашей задачи\n",
    "1. построить свёрточные архитектуры\n",
    "2. построить различные архитектуры с RNN\n",
    "3. построить совместные архитектуры CNN -> RNN или (RNN -> CNN)"
   ]
  },
  {
   "cell_type": "code",
   "execution_count": 76,
   "id": "47586e7c",
   "metadata": {},
   "outputs": [],
   "source": [
    "import pandas as pd\n",
    "import re\n",
    "import keras\n",
    "from stop_words import get_stop_words\n",
    "from string import punctuation\n",
    "from pymorphy2 import MorphAnalyzer\n",
    "from sklearn.model_selection import train_test_split\n",
    "from keras.preprocessing.text import Tokenizer\n",
    "from keras_preprocessing.sequence import pad_sequences\n",
    "from keras.models import Sequential, Model\n",
    "from keras.layers import Embedding, Masking, SimpleRNN, Dense, Dropout, LSTM, GRU, Conv1D, Activation, GlobalMaxPool1D, Flatten\n",
    "from keras.callbacks import EarlyStopping"
   ]
  },
  {
   "cell_type": "code",
   "execution_count": 2,
   "id": "5a6eae44",
   "metadata": {},
   "outputs": [
    {
     "name": "stdout",
     "output_type": "stream",
     "text": [
      "<class 'pandas.core.frame.DataFrame'>\n",
      "RangeIndex: 20659 entries, 0 to 20658\n",
      "Data columns (total 3 columns):\n",
      " #   Column   Non-Null Count  Dtype \n",
      "---  ------   --------------  ----- \n",
      " 0   Rating   20659 non-null  int64 \n",
      " 1   Content  20656 non-null  object\n",
      " 2   Date     20659 non-null  object\n",
      "dtypes: int64(1), object(2)\n",
      "memory usage: 484.3+ KB\n"
     ]
    }
   ],
   "source": [
    "df = pd.read_excel('отзывы за лето.xls')\n",
    "\n",
    "df.sample(15)\n",
    "df.info()"
   ]
  },
  {
   "cell_type": "code",
   "execution_count": 3,
   "id": "24d32c68",
   "metadata": {},
   "outputs": [],
   "source": [
    "df.Content = df.Content.astype(str)"
   ]
  },
  {
   "cell_type": "code",
   "execution_count": 11,
   "id": "4345db87",
   "metadata": {},
   "outputs": [],
   "source": [
    "sw = set(get_stop_words(\"ru\"))\n",
    "exclude = set(punctuation)\n",
    "morpher = MorphAnalyzer()"
   ]
  },
  {
   "cell_type": "code",
   "execution_count": 12,
   "id": "af9c2ef0",
   "metadata": {},
   "outputs": [],
   "source": [
    "def preprocess_text(txt):\n",
    "    txt = str(txt)\n",
    "    txt = \"\".join(c for c in txt if c not in exclude)\n",
    "    txt = txt.lower()\n",
    "    txt = re.sub(\"не\\s\", \"не\", txt)\n",
    "    txt = [morpher.parse(word)[0].normal_form for word in txt.split() if word not in sw]\n",
    "    return \" \".join(txt)"
   ]
  },
  {
   "cell_type": "code",
   "execution_count": 15,
   "id": "52fc10ed",
   "metadata": {},
   "outputs": [
    {
     "data": {
      "text/html": [
       "<div>\n",
       "<style scoped>\n",
       "    .dataframe tbody tr th:only-of-type {\n",
       "        vertical-align: middle;\n",
       "    }\n",
       "\n",
       "    .dataframe tbody tr th {\n",
       "        vertical-align: top;\n",
       "    }\n",
       "\n",
       "    .dataframe thead th {\n",
       "        text-align: right;\n",
       "    }\n",
       "</style>\n",
       "<table border=\"1\" class=\"dataframe\">\n",
       "  <thead>\n",
       "    <tr style=\"text-align: right;\">\n",
       "      <th></th>\n",
       "      <th>Rating</th>\n",
       "      <th>Content</th>\n",
       "      <th>Date</th>\n",
       "    </tr>\n",
       "  </thead>\n",
       "  <tbody>\n",
       "    <tr>\n",
       "      <th>2789</th>\n",
       "      <td>5</td>\n",
       "      <td>хороший приложение</td>\n",
       "      <td>2017-08-10</td>\n",
       "    </tr>\n",
       "    <tr>\n",
       "      <th>2581</th>\n",
       "      <td>4</td>\n",
       "      <td>вроде нормально заход второй раз раздражать на...</td>\n",
       "      <td>2017-08-10</td>\n",
       "    </tr>\n",
       "    <tr>\n",
       "      <th>5081</th>\n",
       "      <td>5</td>\n",
       "      <td></td>\n",
       "      <td>2017-08-07</td>\n",
       "    </tr>\n",
       "    <tr>\n",
       "      <th>7613</th>\n",
       "      <td>5</td>\n",
       "      <td>достаточно понятно прозрачный</td>\n",
       "      <td>2017-08-03</td>\n",
       "    </tr>\n",
       "    <tr>\n",
       "      <th>12678</th>\n",
       "      <td>4</td>\n",
       "      <td>принцип неплохо недоработка</td>\n",
       "      <td>2017-07-26</td>\n",
       "    </tr>\n",
       "  </tbody>\n",
       "</table>\n",
       "</div>"
      ],
      "text/plain": [
       "       Rating                                            Content        Date\n",
       "2789        5                                 хороший приложение  2017-08-10\n",
       "2581        4  вроде нормально заход второй раз раздражать на...  2017-08-10\n",
       "5081        5                                                     2017-08-07\n",
       "7613        5                      достаточно понятно прозрачный  2017-08-03\n",
       "12678       4                        принцип неплохо недоработка  2017-07-26"
      ]
     },
     "execution_count": 15,
     "metadata": {},
     "output_type": "execute_result"
    }
   ],
   "source": [
    "df['Content'] = df['Content'].apply(preprocess_text)\n",
    "\n",
    "df.sample(5)"
   ]
  },
  {
   "cell_type": "code",
   "execution_count": 18,
   "id": "501e02a5",
   "metadata": {},
   "outputs": [],
   "source": [
    "train_df, test_val_df = train_test_split(df, test_size = 0.3, random_state = 49)\n",
    "test_df, val_df = train_test_split(test_val_df, test_size = 0.5, random_state = 49)"
   ]
  },
  {
   "cell_type": "code",
   "execution_count": 20,
   "id": "8513360c",
   "metadata": {},
   "outputs": [],
   "source": [
    "train_df.to_csv('data/train_df.csv')\n",
    "test_df.to_csv('data/test_df.csv')\n",
    "val_df.to_csv('data/val_df.csv')\n",
    "test_val_df.to_csv('data/test_val_df.csv')"
   ]
  },
  {
   "cell_type": "code",
   "execution_count": 21,
   "id": "d6098ff2",
   "metadata": {},
   "outputs": [],
   "source": [
    "text_corpus_train = train_df['Content'].values\n",
    "text_corpus_valid = val_df['Content'].values\n",
    "text_corpus_test = test_df['Content'].values"
   ]
  },
  {
   "cell_type": "code",
   "execution_count": 22,
   "id": "a4f7a48d",
   "metadata": {},
   "outputs": [
    {
     "data": {
      "text/plain": [
       "5"
      ]
     },
     "execution_count": 22,
     "metadata": {},
     "output_type": "execute_result"
    }
   ],
   "source": [
    "num_classes = len(df['Rating'].unique())\n",
    "num_classes"
   ]
  },
  {
   "cell_type": "code",
   "execution_count": 34,
   "id": "8f56e900",
   "metadata": {},
   "outputs": [],
   "source": [
    "tokenizer = Tokenizer(num_words = None, \n",
    "                     filters = '#$%&()*+-<=>@[\\\\]^_`{|}~\\t\\n',\n",
    "                     lower = False, split = ' ')\n",
    "tokenizer.fit_on_texts(text_corpus_train)\n",
    "\n",
    "sequences_train = tokenizer.texts_to_sequences(text_corpus_train)\n",
    "sequences_val = tokenizer.texts_to_sequences(text_corpus_valid)\n",
    "sequences_test = tokenizer.texts_to_sequences(text_corpus_test)\n",
    "\n",
    "word_count = len(tokenizer.index_word) + 1\n",
    "training_length = max([len(i.split()) for i in text_corpus_train])\n",
    "\n",
    "X_train = pad_sequences(sequences_train, maxlen=training_length)\n",
    "X_valid = pad_sequences(sequences_val, maxlen=training_length)\n",
    "\n",
    "y_train = keras.utils.np_utils.to_categorical(train_df['Rating'], num_classes+1)\n",
    "y_test = keras.utils.np_utils.to_categorical(test_df['Rating'], num_classes+1)\n",
    "y_val = keras.utils.np_utils.to_categorical(val_df['Rating'], num_classes+1)"
   ]
  },
  {
   "cell_type": "code",
   "execution_count": 50,
   "id": "e6cf51fe",
   "metadata": {},
   "outputs": [
    {
     "name": "stdout",
     "output_type": "stream",
     "text": [
      "Model: \"sequential_6\"\n",
      "_________________________________________________________________\n",
      " Layer (type)                Output Shape              Param #   \n",
      "=================================================================\n",
      " embedding_5 (Embedding)     (None, 132, 30)           294870    \n",
      "                                                                 \n",
      " masking_4 (Masking)         (None, 132, 30)           0         \n",
      "                                                                 \n",
      " simple_rnn_3 (SimpleRNN)    (None, 132)               21516     \n",
      "                                                                 \n",
      " dense_3 (Dense)             (None, 132)               17556     \n",
      "                                                                 \n",
      " dropout_1 (Dropout)         (None, 132)               0         \n",
      "                                                                 \n",
      " dense_4 (Dense)             (None, 6)                 798       \n",
      "                                                                 \n",
      "=================================================================\n",
      "Total params: 334,740\n",
      "Trainable params: 334,740\n",
      "Non-trainable params: 0\n",
      "_________________________________________________________________\n"
     ]
    }
   ],
   "source": [
    "# RNN\n",
    "\n",
    "model = Sequential()\n",
    "\n",
    "model.add(\n",
    "    Embedding(input_dim = word_count,\n",
    "              input_length = training_length,\n",
    "              output_dim = 30,\n",
    "              trainable = True,\n",
    "              mask_zero = True))\n",
    "model.add(Masking(mask_value = 0.0))\n",
    "\n",
    "model.add(SimpleRNN(132))\n",
    "model.add(Dense(132, activation = 'relu'))\n",
    "model.add(Dropout(0.5))\n",
    "model.add(Dense(num_classes+1, activation = 'softmax'))\n",
    "\n",
    "model.compile(\n",
    "    optimizer = 'adam', loss = 'categorical_crossentropy', metrics = ['accuracy'])\n",
    "\n",
    "early_stopping = EarlyStopping(monitor = 'val_loss', patience = 2, restore_best_weights = 1)\n",
    "\n",
    "model.summary()"
   ]
  },
  {
   "cell_type": "code",
   "execution_count": 51,
   "id": "897a282f",
   "metadata": {},
   "outputs": [
    {
     "name": "stdout",
     "output_type": "stream",
     "text": [
      "Epoch 1/10\n",
      "26/26 [==============================] - 10s 332ms/step - loss: 1.1533 - accuracy: 0.6637 - val_loss: 0.8986 - val_accuracy: 0.7291\n",
      "Epoch 2/10\n",
      "26/26 [==============================] - 9s 339ms/step - loss: 0.9996 - accuracy: 0.7055 - val_loss: 0.8435 - val_accuracy: 0.7291\n",
      "Epoch 3/10\n",
      "26/26 [==============================] - 9s 353ms/step - loss: 0.8382 - accuracy: 0.7294 - val_loss: 0.7452 - val_accuracy: 0.7484\n",
      "Epoch 4/10\n",
      "26/26 [==============================] - 10s 383ms/step - loss: 0.7275 - accuracy: 0.7624 - val_loss: 0.6834 - val_accuracy: 0.7699\n",
      "Epoch 5/10\n",
      "26/26 [==============================] - 11s 436ms/step - loss: 0.6499 - accuracy: 0.7780 - val_loss: 0.6636 - val_accuracy: 0.7768\n",
      "Epoch 6/10\n",
      "26/26 [==============================] - 11s 421ms/step - loss: 0.5897 - accuracy: 0.7962 - val_loss: 0.6550 - val_accuracy: 0.7795\n",
      "Epoch 7/10\n",
      "26/26 [==============================] - 10s 374ms/step - loss: 0.5333 - accuracy: 0.8120 - val_loss: 0.6747 - val_accuracy: 0.7761\n",
      "Epoch 8/10\n",
      "26/26 [==============================] - 10s 381ms/step - loss: 0.4835 - accuracy: 0.8338 - val_loss: 0.6834 - val_accuracy: 0.7719\n"
     ]
    }
   ],
   "source": [
    "history = model.fit(X_train, y_train,\n",
    "                    batch_size = 512,\n",
    "                    epochs = 10,\n",
    "                    verbose = 1,\n",
    "                    validation_split = 0.1,\n",
    "                    callbacks = [early_stopping])"
   ]
  },
  {
   "cell_type": "code",
   "execution_count": 52,
   "id": "ffadcdb0",
   "metadata": {},
   "outputs": [
    {
     "name": "stdout",
     "output_type": "stream",
     "text": [
      "7/7 [==============================] - 1s 104ms/step - loss: 0.6884 - accuracy: 0.7673\n",
      "\n",
      "\n",
      "Test score: 0.6884294748306274\n",
      "Test accuracy: 0.7673442959785461\n"
     ]
    }
   ],
   "source": [
    "score = model.evaluate(X_valid, y_val, batch_size = 512, verbose = 1)\n",
    "print('\\n')\n",
    "print('Test score:', score[0])\n",
    "print('Test accuracy:', score[1])"
   ]
  },
  {
   "cell_type": "code",
   "execution_count": 53,
   "id": "47a41cf0",
   "metadata": {},
   "outputs": [],
   "source": [
    "results = []\n",
    "\n",
    "results.append(['RNN', score[0], score[1]])"
   ]
  },
  {
   "cell_type": "code",
   "execution_count": 56,
   "id": "bf428017",
   "metadata": {},
   "outputs": [],
   "source": [
    "# LSTM\n",
    "\n",
    "model = Sequential()\n",
    "\n",
    "model.add(\n",
    "    Embedding(input_dim = word_count,\n",
    "              input_length = training_length,\n",
    "              output_dim = 30,\n",
    "              trainable = True,\n",
    "              mask_zero = True))\n",
    "model.add(Masking(mask_value = 0.0))\n",
    "model.add(LSTM(132, recurrent_dropout = 0.2))\n",
    "model.add(Dense(132, activation = 'relu'))\n",
    "model.add(Dropout(0.5))\n",
    "model.add(Dense(num_classes+1, activation = 'softmax'))"
   ]
  },
  {
   "cell_type": "code",
   "execution_count": 57,
   "id": "4df6c349",
   "metadata": {},
   "outputs": [
    {
     "name": "stdout",
     "output_type": "stream",
     "text": [
      "Model: \"sequential_8\"\n",
      "_________________________________________________________________\n",
      " Layer (type)                Output Shape              Param #   \n",
      "=================================================================\n",
      " embedding_7 (Embedding)     (None, 132, 30)           294870    \n",
      "                                                                 \n",
      " masking_6 (Masking)         (None, 132, 30)           0         \n",
      "                                                                 \n",
      " lstm (LSTM)                 (None, 132)               86064     \n",
      "                                                                 \n",
      " dense_5 (Dense)             (None, 132)               17556     \n",
      "                                                                 \n",
      " dropout_2 (Dropout)         (None, 132)               0         \n",
      "                                                                 \n",
      " dense_6 (Dense)             (None, 6)                 798       \n",
      "                                                                 \n",
      "=================================================================\n",
      "Total params: 399,288\n",
      "Trainable params: 399,288\n",
      "Non-trainable params: 0\n",
      "_________________________________________________________________\n"
     ]
    }
   ],
   "source": [
    "model.compile(\n",
    "    optimizer = 'adam', loss = 'categorical_crossentropy', metrics = ['accuracy'])\n",
    "model.summary()"
   ]
  },
  {
   "cell_type": "code",
   "execution_count": 58,
   "id": "63b6c279",
   "metadata": {},
   "outputs": [
    {
     "name": "stdout",
     "output_type": "stream",
     "text": [
      "Epoch 1/10\n",
      "26/26 [==============================] - 70s 3s/step - loss: 1.2351 - accuracy: 0.6807 - val_loss: 0.8864 - val_accuracy: 0.7291\n",
      "Epoch 2/10\n",
      "26/26 [==============================] - 83s 3s/step - loss: 0.9079 - accuracy: 0.7097 - val_loss: 0.7592 - val_accuracy: 0.7567\n",
      "Epoch 3/10\n",
      "26/26 [==============================] - 90s 3s/step - loss: 0.7692 - accuracy: 0.7483 - val_loss: 0.6977 - val_accuracy: 0.7664\n",
      "Epoch 4/10\n",
      "26/26 [==============================] - 97s 4s/step - loss: 0.6831 - accuracy: 0.7669 - val_loss: 0.6620 - val_accuracy: 0.7726\n",
      "Epoch 5/10\n",
      "26/26 [==============================] - 97s 4s/step - loss: 0.6195 - accuracy: 0.7841 - val_loss: 0.6482 - val_accuracy: 0.7837\n",
      "Epoch 6/10\n",
      "26/26 [==============================] - 97s 4s/step - loss: 0.5770 - accuracy: 0.7968 - val_loss: 0.6547 - val_accuracy: 0.7858\n",
      "Epoch 7/10\n",
      "26/26 [==============================] - 96s 4s/step - loss: 0.5407 - accuracy: 0.8071 - val_loss: 0.6728 - val_accuracy: 0.7699\n"
     ]
    }
   ],
   "source": [
    "early_stopping = EarlyStopping(monitor = 'val_loss', patience = 2, restore_best_weights = 1)  \n",
    "\n",
    "history = model.fit(X_train, y_train,\n",
    "                    batch_size = 512,\n",
    "                    epochs = 10,\n",
    "                    verbose = 1,\n",
    "                    validation_split = 0.1,\n",
    "                    callbacks = [early_stopping])"
   ]
  },
  {
   "cell_type": "code",
   "execution_count": 59,
   "id": "321a71f6",
   "metadata": {},
   "outputs": [
    {
     "name": "stdout",
     "output_type": "stream",
     "text": [
      "7/7 [==============================] - 4s 572ms/step - loss: 0.6747 - accuracy: 0.7664\n",
      "\n",
      "\n",
      "Test score: 0.6746797561645508\n",
      "Test accuracy: 0.766376256942749\n"
     ]
    }
   ],
   "source": [
    "score = model.evaluate(X_valid, y_val, batch_size = 512, verbose = 1)\n",
    "print('\\n')\n",
    "print('Test score:', score[0])\n",
    "print('Test accuracy:', score[1])\n",
    "\n",
    "results.append(['LSTM', score[0], score[1]])"
   ]
  },
  {
   "cell_type": "code",
   "execution_count": 63,
   "id": "ce5106ee",
   "metadata": {},
   "outputs": [
    {
     "name": "stdout",
     "output_type": "stream",
     "text": [
      "Model: \"sequential_11\"\n",
      "_________________________________________________________________\n",
      " Layer (type)                Output Shape              Param #   \n",
      "=================================================================\n",
      " embedding_10 (Embedding)    (None, 132, 30)           294870    \n",
      "                                                                 \n",
      " masking_9 (Masking)         (None, 132, 30)           0         \n",
      "                                                                 \n",
      " gru (GRU)                   (None, 64)                18432     \n",
      "                                                                 \n",
      " dense_7 (Dense)             (None, 64)                4160      \n",
      "                                                                 \n",
      " dropout_3 (Dropout)         (None, 64)                0         \n",
      "                                                                 \n",
      " dense_8 (Dense)             (None, 6)                 390       \n",
      "                                                                 \n",
      "=================================================================\n",
      "Total params: 317,852\n",
      "Trainable params: 317,852\n",
      "Non-trainable params: 0\n",
      "_________________________________________________________________\n"
     ]
    }
   ],
   "source": [
    "# GRU\n",
    "\n",
    "model = Sequential()\n",
    "\n",
    "model.add(\n",
    "    Embedding(input_dim = word_count,\n",
    "              input_length = training_length,\n",
    "              output_dim = 30,\n",
    "              trainable = True,\n",
    "              mask_zero = True))\n",
    "model.add(Masking(mask_value = 0.0))\n",
    "model.add(GRU(64, recurrent_dropout = 0.2))\n",
    "model.add(Dense(64, activation = 'relu'))\n",
    "model.add(Dropout(0.5))\n",
    "model.add(Dense(num_classes+1, activation = 'softmax'))\n",
    "model.compile(\n",
    "    optimizer = 'adam', loss = 'categorical_crossentropy', metrics = ['accuracy'])\n",
    "\n",
    "model.summary()"
   ]
  },
  {
   "cell_type": "code",
   "execution_count": 64,
   "id": "3b101d53",
   "metadata": {},
   "outputs": [
    {
     "name": "stdout",
     "output_type": "stream",
     "text": [
      "Epoch 1/10\n",
      "26/26 [==============================] - 34s 1s/step - loss: 1.5289 - accuracy: 0.6592 - val_loss: 0.9424 - val_accuracy: 0.7291\n",
      "Epoch 2/10\n",
      "26/26 [==============================] - 33s 1s/step - loss: 0.9823 - accuracy: 0.7045 - val_loss: 0.7889 - val_accuracy: 0.7291\n",
      "Epoch 3/10\n",
      "26/26 [==============================] - 34s 1s/step - loss: 0.8379 - accuracy: 0.7099 - val_loss: 0.7380 - val_accuracy: 0.7491\n",
      "Epoch 4/10\n",
      "26/26 [==============================] - 35s 1s/step - loss: 0.7469 - accuracy: 0.7484 - val_loss: 0.6986 - val_accuracy: 0.7685\n",
      "Epoch 5/10\n",
      "26/26 [==============================] - 35s 1s/step - loss: 0.6705 - accuracy: 0.7789 - val_loss: 0.6770 - val_accuracy: 0.7692\n",
      "Epoch 6/10\n",
      "26/26 [==============================] - 34s 1s/step - loss: 0.6071 - accuracy: 0.7900 - val_loss: 0.6672 - val_accuracy: 0.7699\n",
      "Epoch 7/10\n",
      "26/26 [==============================] - 34s 1s/step - loss: 0.5629 - accuracy: 0.8057 - val_loss: 0.6762 - val_accuracy: 0.7678\n",
      "Epoch 8/10\n",
      "26/26 [==============================] - 35s 1s/step - loss: 0.5277 - accuracy: 0.8180 - val_loss: 0.6940 - val_accuracy: 0.7685\n"
     ]
    }
   ],
   "source": [
    "early_stopping = EarlyStopping(monitor = 'val_loss',patience = 2, restore_best_weights = 1)  \n",
    "\n",
    "\n",
    "history = model.fit(X_train, y_train,\n",
    "                    batch_size = 512,\n",
    "                    epochs = 10,\n",
    "                    verbose = 1,\n",
    "                    validation_split = 0.1,\n",
    "                    callbacks = [early_stopping])"
   ]
  },
  {
   "cell_type": "code",
   "execution_count": 65,
   "id": "8db4cbd7",
   "metadata": {},
   "outputs": [
    {
     "name": "stdout",
     "output_type": "stream",
     "text": [
      "7/7 [==============================] - 2s 235ms/step - loss: 0.6966 - accuracy: 0.7638\n",
      "\n",
      "\n",
      "Test score: 0.6965758800506592\n",
      "Test accuracy: 0.7637947797775269\n"
     ]
    }
   ],
   "source": [
    "score = model.evaluate(X_valid, y_val, batch_size = 512, verbose = 1)\n",
    "print('\\n')\n",
    "print('Test score:', score[0])\n",
    "print('Test accuracy:', score[1])\n",
    "\n",
    "results.append(['GRU', score[0], score[1]])"
   ]
  },
  {
   "cell_type": "code",
   "execution_count": 72,
   "id": "eac8f82f",
   "metadata": {},
   "outputs": [
    {
     "name": "stdout",
     "output_type": "stream",
     "text": [
      "Model: \"sequential_15\"\n",
      "_________________________________________________________________\n",
      " Layer (type)                Output Shape              Param #   \n",
      "=================================================================\n",
      " embedding_14 (Embedding)    (None, 132, 30)           294870    \n",
      "                                                                 \n",
      " conv1d_2 (Conv1D)           (None, 130, 128)          11648     \n",
      "                                                                 \n",
      " activation_1 (Activation)   (None, 130, 128)          0         \n",
      "                                                                 \n",
      " global_max_pooling1d (Globa  (None, 128)              0         \n",
      " lMaxPooling1D)                                                  \n",
      "                                                                 \n",
      " dense_9 (Dense)             (None, 10)                1290      \n",
      "                                                                 \n",
      " activation_2 (Activation)   (None, 10)                0         \n",
      "                                                                 \n",
      " dropout_4 (Dropout)         (None, 10)                0         \n",
      "                                                                 \n",
      " dense_10 (Dense)            (None, 6)                 66        \n",
      "                                                                 \n",
      "=================================================================\n",
      "Total params: 307,874\n",
      "Trainable params: 307,874\n",
      "Non-trainable params: 0\n",
      "_________________________________________________________________\n"
     ]
    }
   ],
   "source": [
    "# CNN\n",
    "\n",
    "model = Sequential()\n",
    "\n",
    "model.add(\n",
    "    Embedding(input_dim = word_count,\n",
    "              input_length = training_length,\n",
    "              output_dim = 30,\n",
    "              trainable = True,\n",
    "              mask_zero = True))\n",
    "model.add(Conv1D(128, 3))\n",
    "model.add(Activation(\"relu\"))\n",
    "model.add(GlobalMaxPool1D())\n",
    "model.add(Dense(10))\n",
    "model.add(Activation(\"relu\"))\n",
    "model.add(Dropout(0.5))\n",
    "model.add(Dense(num_classes+1, activation = 'softmax'))\n",
    "\n",
    "model.compile(\n",
    "    optimizer = 'adam', loss = 'categorical_crossentropy', metrics = ['accuracy'])\n",
    "\n",
    "model.summary()"
   ]
  },
  {
   "cell_type": "code",
   "execution_count": 73,
   "id": "130eec42",
   "metadata": {},
   "outputs": [
    {
     "name": "stdout",
     "output_type": "stream",
     "text": [
      "Epoch 1/10\n",
      "26/26 [==============================] - 4s 132ms/step - loss: 1.6093 - accuracy: 0.6001 - val_loss: 1.2619 - val_accuracy: 0.7291\n",
      "Epoch 2/10\n",
      "26/26 [==============================] - 4s 142ms/step - loss: 1.2789 - accuracy: 0.6558 - val_loss: 1.0002 - val_accuracy: 0.7291\n",
      "Epoch 3/10\n",
      "26/26 [==============================] - 3s 124ms/step - loss: 1.1576 - accuracy: 0.6691 - val_loss: 0.8822 - val_accuracy: 0.7291\n",
      "Epoch 4/10\n",
      "26/26 [==============================] - 3s 126ms/step - loss: 0.9894 - accuracy: 0.6769 - val_loss: 0.7546 - val_accuracy: 0.7298\n",
      "Epoch 5/10\n",
      "26/26 [==============================] - 3s 126ms/step - loss: 0.8828 - accuracy: 0.6912 - val_loss: 0.7225 - val_accuracy: 0.7754\n",
      "Epoch 6/10\n",
      "26/26 [==============================] - 3s 129ms/step - loss: 0.8318 - accuracy: 0.7005 - val_loss: 0.7170 - val_accuracy: 0.7761\n",
      "Epoch 7/10\n",
      "26/26 [==============================] - 3s 129ms/step - loss: 0.8047 - accuracy: 0.7222 - val_loss: 0.7119 - val_accuracy: 0.7823\n",
      "Epoch 8/10\n",
      "26/26 [==============================] - 3s 132ms/step - loss: 0.7743 - accuracy: 0.7381 - val_loss: 0.7080 - val_accuracy: 0.7830\n",
      "Epoch 9/10\n",
      "26/26 [==============================] - 4s 136ms/step - loss: 0.7576 - accuracy: 0.7492 - val_loss: 0.7038 - val_accuracy: 0.7809\n",
      "Epoch 10/10\n",
      "26/26 [==============================] - 4s 135ms/step - loss: 0.7416 - accuracy: 0.7530 - val_loss: 0.7046 - val_accuracy: 0.7761\n"
     ]
    }
   ],
   "source": [
    "early_stopping = EarlyStopping(monitor = 'val_loss', patience = 2, restore_best_weights = 1)  \n",
    "\n",
    "\n",
    "history = model.fit(X_train, y_train,\n",
    "                    batch_size = 512,\n",
    "                    epochs = 10,\n",
    "                    verbose = 1,\n",
    "                    validation_split = 0.1,\n",
    "                    callbacks = [early_stopping])"
   ]
  },
  {
   "cell_type": "code",
   "execution_count": 74,
   "id": "0457273d",
   "metadata": {},
   "outputs": [
    {
     "name": "stdout",
     "output_type": "stream",
     "text": [
      "7/7 [==============================] - 0s 30ms/step - loss: 0.7425 - accuracy: 0.7699\n",
      "\n",
      "\n",
      "Test score: 0.7424861788749695\n",
      "Test accuracy: 0.7699257731437683\n"
     ]
    }
   ],
   "source": [
    "score = model.evaluate(X_valid, y_val, batch_size = 512, verbose = 1)\n",
    "print('\\n')\n",
    "print('Test score:', score[0])\n",
    "print('Test accuracy:', score[1])\n",
    "\n",
    "results.append(['CNN', score[0], score[1]])"
   ]
  },
  {
   "cell_type": "code",
   "execution_count": 77,
   "id": "e35a7e0e",
   "metadata": {},
   "outputs": [
    {
     "name": "stdout",
     "output_type": "stream",
     "text": [
      "Model: \"sequential_17\"\n",
      "_________________________________________________________________\n",
      " Layer (type)                Output Shape              Param #   \n",
      "=================================================================\n",
      " embedding_16 (Embedding)    (None, 132, 30)           294870    \n",
      "                                                                 \n",
      " simple_rnn_5 (SimpleRNN)    (None, 132, 132)          21516     \n",
      "                                                                 \n",
      " conv1d_5 (Conv1D)           (None, 130, 132)          52404     \n",
      "                                                                 \n",
      " conv1d_6 (Conv1D)           (None, 130, 64)           8512      \n",
      "                                                                 \n",
      " flatten (Flatten)           (None, 8320)              0         \n",
      "                                                                 \n",
      " dropout_5 (Dropout)         (None, 8320)              0         \n",
      "                                                                 \n",
      " dense_11 (Dense)            (None, 6)                 49926     \n",
      "                                                                 \n",
      "=================================================================\n",
      "Total params: 427,228\n",
      "Trainable params: 427,228\n",
      "Non-trainable params: 0\n",
      "_________________________________________________________________\n"
     ]
    }
   ],
   "source": [
    "\n",
    "# RNN + CNN\n",
    "\n",
    "model = Sequential()\n",
    "\n",
    "model.add(\n",
    "    Embedding(input_dim = word_count,\n",
    "              input_length = training_length,\n",
    "              output_dim = 30,\n",
    "              trainable = True,\n",
    "              mask_zero = True))\n",
    "model.add(SimpleRNN(132, recurrent_dropout = 0.2, return_sequences = \"True\"))\n",
    "model.add(Conv1D(132, 3, activation = \"linear\"))\n",
    "model.add(Conv1D(64, 1, activation = \"linear\")) \n",
    "model.add(Flatten())                      \n",
    "model.add(Dropout(0.5)) \n",
    "model.add(Dense(num_classes+1, activation = \"softmax\"))      \n",
    "\n",
    "\n",
    "model.compile(\n",
    "    optimizer = 'adam', loss = 'categorical_crossentropy', metrics = ['accuracy'])\n",
    "\n",
    "model.summary()"
   ]
  },
  {
   "cell_type": "code",
   "execution_count": 78,
   "id": "f541b01c",
   "metadata": {},
   "outputs": [
    {
     "name": "stdout",
     "output_type": "stream",
     "text": [
      "Epoch 1/10\n",
      "26/26 [==============================] - 43s 2s/step - loss: 1.1527 - accuracy: 0.6904 - val_loss: 0.8111 - val_accuracy: 0.7567\n",
      "Epoch 2/10\n",
      "26/26 [==============================] - 43s 2s/step - loss: 0.8070 - accuracy: 0.7371 - val_loss: 0.7190 - val_accuracy: 0.7692\n",
      "Epoch 3/10\n",
      "26/26 [==============================] - 44s 2s/step - loss: 0.6891 - accuracy: 0.7653 - val_loss: 0.6864 - val_accuracy: 0.7726\n",
      "Epoch 4/10\n",
      "26/26 [==============================] - 46s 2s/step - loss: 0.6053 - accuracy: 0.7879 - val_loss: 0.6806 - val_accuracy: 0.7768\n",
      "Epoch 5/10\n",
      "26/26 [==============================] - 46s 2s/step - loss: 0.5377 - accuracy: 0.8074 - val_loss: 0.7256 - val_accuracy: 0.7754\n",
      "Epoch 6/10\n",
      "26/26 [==============================] - 45s 2s/step - loss: 0.4856 - accuracy: 0.8253 - val_loss: 0.7994 - val_accuracy: 0.7657\n"
     ]
    }
   ],
   "source": [
    "early_stopping = EarlyStopping(monitor = 'val_loss', patience = 2, restore_best_weights = 1)  \n",
    "\n",
    "\n",
    "history = model.fit(X_train, y_train,\n",
    "                    batch_size = 512,\n",
    "                    epochs = 10,\n",
    "                    verbose = 1,\n",
    "                    validation_split = 0.1,\n",
    "                    callbacks = [early_stopping])"
   ]
  },
  {
   "cell_type": "code",
   "execution_count": 79,
   "id": "ec00ee8b",
   "metadata": {},
   "outputs": [
    {
     "name": "stdout",
     "output_type": "stream",
     "text": [
      "7/7 [==============================] - 2s 330ms/step - loss: 0.6969 - accuracy: 0.7686\n",
      "\n",
      "\n",
      "Test score: 0.6968570947647095\n",
      "Test accuracy: 0.7686350345611572\n"
     ]
    }
   ],
   "source": [
    "score = model.evaluate(X_valid, y_val, batch_size = 512, verbose = 1)\n",
    "print('\\n')\n",
    "print('Test score:', score[0])\n",
    "print('Test accuracy:', score[1])\n",
    "\n",
    "results.append(['RNN + CNN', score[0], score[1]])"
   ]
  },
  {
   "cell_type": "code",
   "execution_count": 80,
   "id": "6551063e",
   "metadata": {},
   "outputs": [
    {
     "data": {
      "text/html": [
       "<div>\n",
       "<style scoped>\n",
       "    .dataframe tbody tr th:only-of-type {\n",
       "        vertical-align: middle;\n",
       "    }\n",
       "\n",
       "    .dataframe tbody tr th {\n",
       "        vertical-align: top;\n",
       "    }\n",
       "\n",
       "    .dataframe thead th {\n",
       "        text-align: right;\n",
       "    }\n",
       "</style>\n",
       "<table border=\"1\" class=\"dataframe\">\n",
       "  <thead>\n",
       "    <tr style=\"text-align: right;\">\n",
       "      <th></th>\n",
       "      <th>Model</th>\n",
       "      <th>Test score</th>\n",
       "      <th>Test accuracy</th>\n",
       "    </tr>\n",
       "  </thead>\n",
       "  <tbody>\n",
       "    <tr>\n",
       "      <th>0</th>\n",
       "      <td>RNN</td>\n",
       "      <td>0.688429</td>\n",
       "      <td>0.767344</td>\n",
       "    </tr>\n",
       "    <tr>\n",
       "      <th>1</th>\n",
       "      <td>LSTM</td>\n",
       "      <td>0.674680</td>\n",
       "      <td>0.766376</td>\n",
       "    </tr>\n",
       "    <tr>\n",
       "      <th>2</th>\n",
       "      <td>GRU</td>\n",
       "      <td>0.696576</td>\n",
       "      <td>0.763795</td>\n",
       "    </tr>\n",
       "    <tr>\n",
       "      <th>3</th>\n",
       "      <td>CNN</td>\n",
       "      <td>0.742486</td>\n",
       "      <td>0.769926</td>\n",
       "    </tr>\n",
       "    <tr>\n",
       "      <th>4</th>\n",
       "      <td>RNN + CNN</td>\n",
       "      <td>0.696857</td>\n",
       "      <td>0.768635</td>\n",
       "    </tr>\n",
       "  </tbody>\n",
       "</table>\n",
       "</div>"
      ],
      "text/plain": [
       "       Model  Test score  Test accuracy\n",
       "0        RNN    0.688429       0.767344\n",
       "1       LSTM    0.674680       0.766376\n",
       "2        GRU    0.696576       0.763795\n",
       "3        CNN    0.742486       0.769926\n",
       "4  RNN + CNN    0.696857       0.768635"
      ]
     },
     "execution_count": 80,
     "metadata": {},
     "output_type": "execute_result"
    }
   ],
   "source": [
    "results_df = pd.DataFrame(results, columns = ['Model', 'Test score', 'Test accuracy'])\n",
    "results_df"
   ]
  },
  {
   "cell_type": "markdown",
   "id": "b783eed6",
   "metadata": {},
   "source": [
    "#### Вывод:\n",
    "Модельки справились примерно с одинаковой accuracy, однако loss меньше у RNN "
   ]
  },
  {
   "cell_type": "code",
   "execution_count": null,
   "id": "c76afc70",
   "metadata": {},
   "outputs": [],
   "source": []
  }
 ],
 "metadata": {
  "kernelspec": {
   "display_name": "Python 3",
   "language": "python",
   "name": "python3"
  },
  "language_info": {
   "codemirror_mode": {
    "name": "ipython",
    "version": 3
   },
   "file_extension": ".py",
   "mimetype": "text/x-python",
   "name": "python",
   "nbconvert_exporter": "python",
   "pygments_lexer": "ipython3",
   "version": "3.8.8"
  }
 },
 "nbformat": 4,
 "nbformat_minor": 5
}
